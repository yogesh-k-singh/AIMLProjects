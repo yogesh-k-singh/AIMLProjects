{
 "cells": [
  {
   "cell_type": "code",
   "execution_count": 80,
   "metadata": {},
   "outputs": [],
   "source": [
    "import numpy as np\n",
    "import pandas as pd\n",
    "import seaborn as sns\n",
    "sns.set_palette('husl')\n",
    "import matplotlib.pyplot as plt\n",
    "%matplotlib inline\n",
    "from scipy.stats import zscore\n",
    "from sklearn.cluster import KMeans\n",
    "from sklearn import metrics\n",
    "from scipy.spatial.distance import cdist\n",
    "from scipy.cluster.hierarchy import dendrogram, linkage"
   ]
  },
  {
   "cell_type": "markdown",
   "metadata": {},
   "source": [
    "### The data set has information about features of silhouette extracted from the images of different cars\n",
    "\n",
    "Four \"Corgie\" model vehicles were used for the experiment: a double decker bus, Cheverolet van, Saab 9000 and an Opel Manta 400 cars. This particular combination of vehicles was chosen with the expectation that the bus, van and either one of the cars would be readily distinguishable, but it would be more difficult to distinguish between the cars.\n",
    "\n"
   ]
  },
  {
   "cell_type": "markdown",
   "metadata": {},
   "source": [
    "### 1. Read the dataset using function .dropna() - to avoid dealing with NAs as of now"
   ]
  },
  {
   "cell_type": "code",
   "execution_count": 23,
   "metadata": {},
   "outputs": [
    {
     "name": "stdout",
     "output_type": "stream",
     "text": [
      "The dataframe has 846 rows\n",
      "The dataframe has 19 columns\n"
     ]
    }
   ],
   "source": [
    "dfVehicle = pd.read_csv(\"Vehicle.csv\")\n",
    "# Random 10 rows from dataframe\n",
    "print(\"The dataframe has %d rows\" %dfVehicle.shape[0])\n",
    "print(\"The dataframe has %d columns\" %dfVehicle.shape[1])\n",
    "dfVehicle.sample(5)\n",
    "dfVehicle.dropna(inplace = True)"
   ]
  },
  {
   "cell_type": "markdown",
   "metadata": {},
   "source": [
    "### 2. Print/ Plot the dependent (categorical variable) - Class column"
   ]
  },
  {
   "cell_type": "markdown",
   "metadata": {},
   "source": [
    "Since the variable is categorical, you can use value_counts function"
   ]
  },
  {
   "cell_type": "code",
   "execution_count": 10,
   "metadata": {},
   "outputs": [
    {
     "name": "stdout",
     "output_type": "stream",
     "text": [
      "  Labels  class\n",
      "0    car    429\n",
      "1    bus    218\n",
      "2    van    199\n"
     ]
    },
    {
     "data": {
      "text/plain": [
       "<matplotlib.axes._subplots.AxesSubplot at 0x205c6a8efd0>"
      ]
     },
     "execution_count": 10,
     "metadata": {},
     "output_type": "execute_result"
    },
    {
     "data": {
      "image/png": "[encoded data removed]",
      "text/plain": [
       "<Figure size 432x288 with 1 Axes>"
      ]
     },
     "metadata": {
      "needs_background": "light"
     },
     "output_type": "display_data"
    }
   ],
   "source": [
    "source_counts =pd.DataFrame(dfVehicle[\"class\"].value_counts()).reset_index()\n",
    "source_counts.columns =[\"Labels\",\"class\"]\n",
    "print(source_counts)\n",
    "source_counts[\"class\"].plot(kind='bar')"
   ]
  },
  {
   "cell_type": "markdown",
   "metadata": {},
   "source": [
    "### Check for any missing values in the data "
   ]
  },
  {
   "cell_type": "code",
   "execution_count": 24,
   "metadata": {},
   "outputs": [
    {
     "name": "stdout",
     "output_type": "stream",
     "text": [
      "compactness                    0\n",
      "circularity                    0\n",
      "distance_circularity           0\n",
      "radius_ratio                   0\n",
      "pr.axis_aspect_ratio           0\n",
      "max.length_aspect_ratio        0\n",
      "scatter_ratio                  0\n",
      "elongatedness                  0\n",
      "pr.axis_rectangularity         0\n",
      "max.length_rectangularity      0\n",
      "scaled_variance                0\n",
      "scaled_variance.1              0\n",
      "scaled_radius_of_gyration      0\n",
      "scaled_radius_of_gyration.1    0\n",
      "skewness_about                 0\n",
      "skewness_about.1               0\n",
      "skewness_about.2               0\n",
      "hollows_ratio                  0\n",
      "class                          0\n",
      "dtype: int64\n"
     ]
    }
   ],
   "source": [
    "# Total missing values for each feature\n",
    "print(dfVehicle.isnull().sum())"
   ]
  },
  {
   "cell_type": "markdown",
   "metadata": {},
   "source": [
    "### 3. Standardize the data "
   ]
  },
  {
   "cell_type": "code",
   "execution_count": 99,
   "metadata": {},
   "outputs": [
    {
     "data": {
      "text/html": [
       "<div>\n",
       "<style scoped>\n",
       "    .dataframe tbody tr th:only-of-type {\n",
       "        vertical-align: middle;\n",
       "    }\n",
       "\n",
       "    .dataframe tbody tr th {\n",
       "        vertical-align: top;\n",
       "    }\n",
       "\n",
       "    .dataframe thead th {\n",
       "        text-align: right;\n",
       "    }\n",
       "</style>\n",
       "<table border=\"1\" class=\"dataframe\">\n",
       "  <thead>\n",
       "    <tr style=\"text-align: right;\">\n",
       "      <th></th>\n",
       "      <th>compactness</th>\n",
       "      <th>circularity</th>\n",
       "      <th>distance_circularity</th>\n",
       "      <th>radius_ratio</th>\n",
       "      <th>pr.axis_aspect_ratio</th>\n",
       "      <th>max.length_aspect_ratio</th>\n",
       "      <th>scatter_ratio</th>\n",
       "      <th>elongatedness</th>\n",
       "      <th>pr.axis_rectangularity</th>\n",
       "      <th>max.length_rectangularity</th>\n",
       "      <th>scaled_variance</th>\n",
       "      <th>scaled_variance.1</th>\n",
       "      <th>scaled_radius_of_gyration</th>\n",
       "      <th>scaled_radius_of_gyration.1</th>\n",
       "      <th>skewness_about</th>\n",
       "      <th>skewness_about.1</th>\n",
       "      <th>skewness_about.2</th>\n",
       "      <th>hollows_ratio</th>\n",
       "    </tr>\n",
       "  </thead>\n",
       "  <tbody>\n",
       "    <tr>\n",
       "      <th>806</th>\n",
       "      <td>-0.687452</td>\n",
       "      <td>0.032037</td>\n",
       "      <td>-0.002729</td>\n",
       "      <td>-0.419661</td>\n",
       "      <td>-0.724754</td>\n",
       "      <td>-0.128151</td>\n",
       "      <td>-0.440488</td>\n",
       "      <td>0.257876</td>\n",
       "      <td>-0.606014</td>\n",
       "      <td>0.076453</td>\n",
       "      <td>-0.268973</td>\n",
       "      <td>-0.464612</td>\n",
       "      <td>-0.131596</td>\n",
       "      <td>-0.455036</td>\n",
       "      <td>-0.681472</td>\n",
       "      <td>-1.422141</td>\n",
       "      <td>-0.159204</td>\n",
       "      <td>-0.369125</td>\n",
       "    </tr>\n",
       "    <tr>\n",
       "      <th>788</th>\n",
       "      <td>2.593753</td>\n",
       "      <td>1.171568</td>\n",
       "      <td>1.138435</td>\n",
       "      <td>1.009135</td>\n",
       "      <td>0.028249</td>\n",
       "      <td>0.299721</td>\n",
       "      <td>1.465032</td>\n",
       "      <td>-1.280865</td>\n",
       "      <td>1.338300</td>\n",
       "      <td>1.180227</td>\n",
       "      <td>1.304228</td>\n",
       "      <td>1.476443</td>\n",
       "      <td>1.230116</td>\n",
       "      <td>-0.053505</td>\n",
       "      <td>1.555006</td>\n",
       "      <td>-0.973784</td>\n",
       "      <td>-0.159204</td>\n",
       "      <td>0.171837</td>\n",
       "    </tr>\n",
       "    <tr>\n",
       "      <th>666</th>\n",
       "      <td>1.013913</td>\n",
       "      <td>-0.293543</td>\n",
       "      <td>0.884843</td>\n",
       "      <td>0.830535</td>\n",
       "      <td>0.153750</td>\n",
       "      <td>0.299721</td>\n",
       "      <td>0.497149</td>\n",
       "      <td>-0.639723</td>\n",
       "      <td>0.560575</td>\n",
       "      <td>-0.406448</td>\n",
       "      <td>0.437362</td>\n",
       "      <td>0.425990</td>\n",
       "      <td>-1.090983</td>\n",
       "      <td>-0.990411</td>\n",
       "      <td>0.335109</td>\n",
       "      <td>-0.077070</td>\n",
       "      <td>0.979026</td>\n",
       "      <td>1.118521</td>\n",
       "    </tr>\n",
       "    <tr>\n",
       "      <th>561</th>\n",
       "      <td>-0.687452</td>\n",
       "      <td>-0.944703</td>\n",
       "      <td>0.377659</td>\n",
       "      <td>0.741235</td>\n",
       "      <td>0.906753</td>\n",
       "      <td>-0.128151</td>\n",
       "      <td>-0.017039</td>\n",
       "      <td>-0.126809</td>\n",
       "      <td>-0.217151</td>\n",
       "      <td>-1.027321</td>\n",
       "      <td>0.341044</td>\n",
       "      <td>-0.127782</td>\n",
       "      <td>-0.719608</td>\n",
       "      <td>0.214183</td>\n",
       "      <td>-0.681472</td>\n",
       "      <td>1.043823</td>\n",
       "      <td>-0.484413</td>\n",
       "      <td>-0.504366</td>\n",
       "    </tr>\n",
       "    <tr>\n",
       "      <th>623</th>\n",
       "      <td>1.500018</td>\n",
       "      <td>1.171568</td>\n",
       "      <td>1.645620</td>\n",
       "      <td>1.128201</td>\n",
       "      <td>0.279250</td>\n",
       "      <td>0.727593</td>\n",
       "      <td>1.586018</td>\n",
       "      <td>-1.280865</td>\n",
       "      <td>1.727163</td>\n",
       "      <td>1.387184</td>\n",
       "      <td>1.304228</td>\n",
       "      <td>1.544951</td>\n",
       "      <td>0.796844</td>\n",
       "      <td>0.080339</td>\n",
       "      <td>3.181535</td>\n",
       "      <td>2.837252</td>\n",
       "      <td>0.166004</td>\n",
       "      <td>1.253762</td>\n",
       "    </tr>\n",
       "    <tr>\n",
       "      <th>109</th>\n",
       "      <td>0.649335</td>\n",
       "      <td>0.520408</td>\n",
       "      <td>-0.192923</td>\n",
       "      <td>0.890068</td>\n",
       "      <td>0.781252</td>\n",
       "      <td>-0.556023</td>\n",
       "      <td>0.497149</td>\n",
       "      <td>-0.767951</td>\n",
       "      <td>0.560575</td>\n",
       "      <td>0.352396</td>\n",
       "      <td>0.437362</td>\n",
       "      <td>0.488789</td>\n",
       "      <td>-0.100648</td>\n",
       "      <td>0.214183</td>\n",
       "      <td>-0.274839</td>\n",
       "      <td>-0.525427</td>\n",
       "      <td>0.979026</td>\n",
       "      <td>-0.098644</td>\n",
       "    </tr>\n",
       "    <tr>\n",
       "      <th>184</th>\n",
       "      <td>1.135439</td>\n",
       "      <td>0.194828</td>\n",
       "      <td>1.518823</td>\n",
       "      <td>1.187734</td>\n",
       "      <td>0.530251</td>\n",
       "      <td>0.299721</td>\n",
       "      <td>1.041583</td>\n",
       "      <td>-1.024408</td>\n",
       "      <td>0.949438</td>\n",
       "      <td>0.076453</td>\n",
       "      <td>0.918954</td>\n",
       "      <td>0.991179</td>\n",
       "      <td>1.106324</td>\n",
       "      <td>-0.321192</td>\n",
       "      <td>0.538425</td>\n",
       "      <td>-0.301249</td>\n",
       "      <td>0.328609</td>\n",
       "      <td>0.442318</td>\n",
       "    </tr>\n",
       "    <tr>\n",
       "      <th>323</th>\n",
       "      <td>0.527809</td>\n",
       "      <td>1.008778</td>\n",
       "      <td>0.884843</td>\n",
       "      <td>1.009135</td>\n",
       "      <td>0.530251</td>\n",
       "      <td>0.299721</td>\n",
       "      <td>0.587888</td>\n",
       "      <td>-0.767951</td>\n",
       "      <td>0.560575</td>\n",
       "      <td>0.628340</td>\n",
       "      <td>0.597893</td>\n",
       "      <td>0.540170</td>\n",
       "      <td>1.756232</td>\n",
       "      <td>-0.588880</td>\n",
       "      <td>0.741741</td>\n",
       "      <td>-1.310052</td>\n",
       "      <td>0.328609</td>\n",
       "      <td>0.442318</td>\n",
       "    </tr>\n",
       "    <tr>\n",
       "      <th>797</th>\n",
       "      <td>2.107648</td>\n",
       "      <td>1.334359</td>\n",
       "      <td>1.645620</td>\n",
       "      <td>1.247267</td>\n",
       "      <td>-0.097251</td>\n",
       "      <td>0.513657</td>\n",
       "      <td>1.162569</td>\n",
       "      <td>-1.152637</td>\n",
       "      <td>0.949438</td>\n",
       "      <td>1.318198</td>\n",
       "      <td>0.918954</td>\n",
       "      <td>1.128195</td>\n",
       "      <td>1.292012</td>\n",
       "      <td>-1.124255</td>\n",
       "      <td>2.978219</td>\n",
       "      <td>-1.197963</td>\n",
       "      <td>1.141631</td>\n",
       "      <td>1.253762</td>\n",
       "    </tr>\n",
       "    <tr>\n",
       "      <th>459</th>\n",
       "      <td>0.527809</td>\n",
       "      <td>-0.456333</td>\n",
       "      <td>0.504455</td>\n",
       "      <td>0.681702</td>\n",
       "      <td>-0.097251</td>\n",
       "      <td>0.085785</td>\n",
       "      <td>0.285424</td>\n",
       "      <td>-0.511494</td>\n",
       "      <td>0.171712</td>\n",
       "      <td>-0.268476</td>\n",
       "      <td>0.019982</td>\n",
       "      <td>0.237593</td>\n",
       "      <td>-1.121931</td>\n",
       "      <td>-1.525787</td>\n",
       "      <td>-0.681472</td>\n",
       "      <td>-0.525427</td>\n",
       "      <td>1.629444</td>\n",
       "      <td>1.659484</td>\n",
       "    </tr>\n",
       "  </tbody>\n",
       "</table>\n",
       "</div>"
      ],
      "text/plain": [
       "     compactness  circularity  distance_circularity  radius_ratio  \\\n",
       "806    -0.687452     0.032037             -0.002729     -0.419661   \n",
       "788     2.593753     1.171568              1.138435      1.009135   \n",
       "666     1.013913    -0.293543              0.884843      0.830535   \n",
       "561    -0.687452    -0.944703              0.377659      0.741235   \n",
       "623     1.500018     1.171568              1.645620      1.128201   \n",
       "109     0.649335     0.520408             -0.192923      0.890068   \n",
       "184     1.135439     0.194828              1.518823      1.187734   \n",
       "323     0.527809     1.008778              0.884843      1.009135   \n",
       "797     2.107648     1.334359              1.645620      1.247267   \n",
       "459     0.527809    -0.456333              0.504455      0.681702   \n",
       "\n",
       "     pr.axis_aspect_ratio  max.length_aspect_ratio  scatter_ratio  \\\n",
       "806             -0.724754                -0.128151      -0.440488   \n",
       "788              0.028249                 0.299721       1.465032   \n",
       "666              0.153750                 0.299721       0.497149   \n",
       "561              0.906753                -0.128151      -0.017039   \n",
       "623              0.279250                 0.727593       1.586018   \n",
       "109              0.781252                -0.556023       0.497149   \n",
       "184              0.530251                 0.299721       1.041583   \n",
       "323              0.530251                 0.299721       0.587888   \n",
       "797             -0.097251                 0.513657       1.162569   \n",
       "459             -0.097251                 0.085785       0.285424   \n",
       "\n",
       "     elongatedness  pr.axis_rectangularity  max.length_rectangularity  \\\n",
       "806       0.257876               -0.606014                   0.076453   \n",
       "788      -1.280865                1.338300                   1.180227   \n",
       "666      -0.639723                0.560575                  -0.406448   \n",
       "561      -0.126809               -0.217151                  -1.027321   \n",
       "623      -1.280865                1.727163                   1.387184   \n",
       "109      -0.767951                0.560575                   0.352396   \n",
       "184      -1.024408                0.949438                   0.076453   \n",
       "323      -0.767951                0.560575                   0.628340   \n",
       "797      -1.152637                0.949438                   1.318198   \n",
       "459      -0.511494                0.171712                  -0.268476   \n",
       "\n",
       "     scaled_variance  scaled_variance.1  scaled_radius_of_gyration  \\\n",
       "806        -0.268973          -0.464612                  -0.131596   \n",
       "788         1.304228           1.476443                   1.230116   \n",
       "666         0.437362           0.425990                  -1.090983   \n",
       "561         0.341044          -0.127782                  -0.719608   \n",
       "623         1.304228           1.544951                   0.796844   \n",
       "109         0.437362           0.488789                  -0.100648   \n",
       "184         0.918954           0.991179                   1.106324   \n",
       "323         0.597893           0.540170                   1.756232   \n",
       "797         0.918954           1.128195                   1.292012   \n",
       "459         0.019982           0.237593                  -1.121931   \n",
       "\n",
       "     scaled_radius_of_gyration.1  skewness_about  skewness_about.1  \\\n",
       "806                    -0.455036       -0.681472         -1.422141   \n",
       "788                    -0.053505        1.555006         -0.973784   \n",
       "666                    -0.990411        0.335109         -0.077070   \n",
       "561                     0.214183       -0.681472          1.043823   \n",
       "623                     0.080339        3.181535          2.837252   \n",
       "109                     0.214183       -0.274839         -0.525427   \n",
       "184                    -0.321192        0.538425         -0.301249   \n",
       "323                    -0.588880        0.741741         -1.310052   \n",
       "797                    -1.124255        2.978219         -1.197963   \n",
       "459                    -1.525787       -0.681472         -0.525427   \n",
       "\n",
       "     skewness_about.2  hollows_ratio  \n",
       "806         -0.159204      -0.369125  \n",
       "788         -0.159204       0.171837  \n",
       "666          0.979026       1.118521  \n",
       "561         -0.484413      -0.504366  \n",
       "623          0.166004       1.253762  \n",
       "109          0.979026      -0.098644  \n",
       "184          0.328609       0.442318  \n",
       "323          0.328609       0.442318  \n",
       "797          1.141631       1.253762  \n",
       "459          1.629444       1.659484  "
      ]
     },
     "execution_count": 99,
     "metadata": {},
     "output_type": "execute_result"
    }
   ],
   "source": [
    "numeric_cols = dfVehicle.select_dtypes(include=[np.number]).columns\n",
    "dfStd = dfVehicle[numeric_cols].apply(zscore)\n",
    "dfStd.sample(10)"
   ]
  },
  {
   "cell_type": "markdown",
   "metadata": {},
   "source": [
    "Since the dimensions of the data are not really known to us, it would be wise to standardize the data using z scores before we go for any clustering methods.\n",
    "You can use zscore function to do this"
   ]
  },
  {
   "cell_type": "markdown",
   "metadata": {},
   "source": [
    "### K - Means Clustering"
   ]
  },
  {
   "cell_type": "markdown",
   "metadata": {},
   "source": [
    "### 4. Assign a dummy array called distortion"
   ]
  },
  {
   "cell_type": "code",
   "execution_count": 143,
   "metadata": {},
   "outputs": [],
   "source": [
    "distortions = []"
   ]
  },
  {
   "cell_type": "markdown",
   "metadata": {},
   "source": [
    "You can later use this array to plot the elbow plot"
   ]
  },
  {
   "cell_type": "markdown",
   "metadata": {},
   "source": [
    "### 5. Calculating distortion - C distance"
   ]
  },
  {
   "cell_type": "code",
   "execution_count": 145,
   "metadata": {},
   "outputs": [
    {
     "data": {
      "text/plain": [
       "array([[ 4.09779822,  4.63821638,  2.21937994, ..., 11.98292164,\n",
       "         7.28701194,  3.46838573],\n",
       "       [ 2.32503719,  6.0227724 ,  2.95585653, ..., 13.34197746,\n",
       "         8.4761305 ,  2.61198725],\n",
       "       [ 7.10641994,  1.57212726,  3.72614755, ..., 12.71194348,\n",
       "         4.48328576,  6.08959349],\n",
       "       ...,\n",
       "       [ 8.0452164 ,  2.8453053 ,  4.69361699, ..., 12.79814022,\n",
       "         4.53649642,  6.85977802],\n",
       "       [ 3.07069032,  8.25524507,  4.93229958, ..., 14.23262654,\n",
       "        10.23489342,  2.76965702],\n",
       "       [ 3.68500561,  9.42860615,  6.13734467, ..., 14.68159768,\n",
       "        11.04051302,  4.40331484]])"
      ]
     },
     "execution_count": 145,
     "metadata": {},
     "output_type": "execute_result"
    }
   ],
   "source": [
    "cdist(dfStd,kmeanModel.cluster_centers_,'euclidean')"
   ]
  },
  {
   "cell_type": "markdown",
   "metadata": {},
   "source": [
    "Iterating values of k from 1 to 10 fit K means model\n",
    "Using c distance - Get the measure for Sum of squares error."
   ]
  },
  {
   "cell_type": "code",
   "execution_count": 144,
   "metadata": {},
   "outputs": [],
   "source": [
    "K = range(1,10)\n",
    "for k in K:\n",
    "    kmeanModel = KMeans(n_clusters=k).fit(dfStd)\n",
    "    kmeanModel.fit(dfStd)\n",
    "    distortions.append(\n",
    "        sum(np.min(cdist(dfStd, kmeanModel.cluster_centers_, 'euclidean'), axis=1))**2 / dfStd.shape[0])"
   ]
  },
  {
   "cell_type": "markdown",
   "metadata": {},
   "source": [
    "### 6. Plotting Elbow/ Scree Plot"
   ]
  },
  {
   "cell_type": "code",
   "execution_count": 146,
   "metadata": {},
   "outputs": [
    {
     "data": {
      "image/png": "[encoded data removed]",
      "text/plain": [
       "<Figure size 432x288 with 1 Axes>"
      ]
     },
     "metadata": {
      "needs_background": "light"
     },
     "output_type": "display_data"
    }
   ],
   "source": [
    "# Plot the elbow\n",
    "plt.plot(K, distortions, 'bx-')\n",
    "plt.xlabel('k')\n",
    "plt.ylabel('Distortion')\n",
    "plt.title('Scree Plot')\n",
    "plt.show()"
   ]
  },
  {
   "cell_type": "markdown",
   "metadata": {},
   "source": [
    "Use Matplotlib to plot the scree plot - Note: Scree plot plots distortion vs the no of clusters"
   ]
  },
  {
   "cell_type": "markdown",
   "metadata": {},
   "source": [
    "### Find out the optimal value of K"
   ]
  },
  {
   "cell_type": "code",
   "execution_count": 45,
   "metadata": {},
   "outputs": [
    {
     "data": {
      "text/plain": [
       "KMeans(algorithm='auto', copy_x=True, init='k-means++', max_iter=300,\n",
       "    n_clusters=3, n_init=10, n_jobs=None, precompute_distances='auto',\n",
       "    random_state=None, tol=0.0001, verbose=0)"
      ]
     },
     "execution_count": 45,
     "metadata": {},
     "output_type": "execute_result"
    }
   ],
   "source": [
    "# Build kmeans clustering model using k=3\n",
    "kmeans = KMeans(n_clusters=3)\n",
    "kmeans"
   ]
  },
  {
   "cell_type": "markdown",
   "metadata": {},
   "source": [
    "### Using optimal value of K - Cluster the data. \n",
    "Note: Since the data has more than 2 dimension we cannot visualize the data. As an alternative, we can observe the centroids and note how they are distributed across different dimensions"
   ]
  },
  {
   "cell_type": "markdown",
   "metadata": {},
   "source": [
    "You can use kmeans.cluster_centers_ function to pull the centroid information from the instance"
   ]
  },
  {
   "cell_type": "code",
   "execution_count": 147,
   "metadata": {},
   "outputs": [
    {
     "data": {
      "text/plain": [
       "array([[-0.91987072, -0.52009251, -0.89320752, -1.06435572, -0.50042171,\n",
       "        -0.2190738 , -0.7791213 ,  0.86589322, -0.74535635, -0.484632  ,\n",
       "        -0.78240328, -0.78341064, -0.38498232,  0.83878747, -0.09524349,\n",
       "        -0.30171562, -1.05420601, -1.11069466],\n",
       "       [ 1.13076532,  1.17094237,  1.19500584,  1.01909505,  0.21505188,\n",
       "         0.34250798,  1.27180461, -1.19061224,  1.27548416,  1.09266768,\n",
       "         1.22038121,  1.28132727,  1.07954232, -0.02879497,  0.16229031,\n",
       "         0.26566456, -0.00535553,  0.18380067],\n",
       "       [-0.2339617 , -0.57387481, -0.30776905, -0.03041322,  0.2050726 ,\n",
       "        -0.11653151, -0.45904181,  0.32506329, -0.48798836, -0.53604446,\n",
       "        -0.41380935, -0.46366305, -0.60155031, -0.61924057, -0.06177969,\n",
       "         0.01066762,  0.81278556,  0.69897299]])"
      ]
     },
     "execution_count": 147,
     "metadata": {},
     "output_type": "execute_result"
    }
   ],
   "source": [
    "kmeans.cluster_centers_"
   ]
  },
  {
   "cell_type": "markdown",
   "metadata": {},
   "source": [
    "### 7. Store the centroids in a dataframe with column names from the original dataset given "
   ]
  },
  {
   "cell_type": "code",
   "execution_count": 77,
   "metadata": {},
   "outputs": [
    {
     "data": {
      "text/html": [
       "<div>\n",
       "<style scoped>\n",
       "    .dataframe tbody tr th:only-of-type {\n",
       "        vertical-align: middle;\n",
       "    }\n",
       "\n",
       "    .dataframe tbody tr th {\n",
       "        vertical-align: top;\n",
       "    }\n",
       "\n",
       "    .dataframe thead th {\n",
       "        text-align: right;\n",
       "    }\n",
       "</style>\n",
       "<table border=\"1\" class=\"dataframe\">\n",
       "  <thead>\n",
       "    <tr style=\"text-align: right;\">\n",
       "      <th></th>\n",
       "      <th>compactness</th>\n",
       "      <th>circularity</th>\n",
       "      <th>distance_circularity</th>\n",
       "      <th>radius_ratio</th>\n",
       "      <th>pr.axis_aspect_ratio</th>\n",
       "      <th>max.length_aspect_ratio</th>\n",
       "      <th>scatter_ratio</th>\n",
       "      <th>elongatedness</th>\n",
       "      <th>pr.axis_rectangularity</th>\n",
       "      <th>max.length_rectangularity</th>\n",
       "      <th>scaled_variance</th>\n",
       "      <th>scaled_variance.1</th>\n",
       "      <th>scaled_radius_of_gyration</th>\n",
       "      <th>scaled_radius_of_gyration.1</th>\n",
       "      <th>skewness_about</th>\n",
       "      <th>skewness_about.1</th>\n",
       "      <th>skewness_about.2</th>\n",
       "      <th>hollows_ratio</th>\n",
       "    </tr>\n",
       "  </thead>\n",
       "  <tbody>\n",
       "    <tr>\n",
       "      <th>0</th>\n",
       "      <td>-0.919871</td>\n",
       "      <td>-0.520093</td>\n",
       "      <td>-0.893208</td>\n",
       "      <td>-1.064356</td>\n",
       "      <td>-0.500422</td>\n",
       "      <td>-0.219074</td>\n",
       "      <td>-0.779121</td>\n",
       "      <td>0.865893</td>\n",
       "      <td>-0.745356</td>\n",
       "      <td>-0.484632</td>\n",
       "      <td>-0.782403</td>\n",
       "      <td>-0.783411</td>\n",
       "      <td>-0.384982</td>\n",
       "      <td>0.838787</td>\n",
       "      <td>-0.095243</td>\n",
       "      <td>-0.301716</td>\n",
       "      <td>-1.054206</td>\n",
       "      <td>-1.110695</td>\n",
       "    </tr>\n",
       "    <tr>\n",
       "      <th>1</th>\n",
       "      <td>1.130765</td>\n",
       "      <td>1.170942</td>\n",
       "      <td>1.195006</td>\n",
       "      <td>1.019095</td>\n",
       "      <td>0.215052</td>\n",
       "      <td>0.342508</td>\n",
       "      <td>1.271805</td>\n",
       "      <td>-1.190612</td>\n",
       "      <td>1.275484</td>\n",
       "      <td>1.092668</td>\n",
       "      <td>1.220381</td>\n",
       "      <td>1.281327</td>\n",
       "      <td>1.079542</td>\n",
       "      <td>-0.028795</td>\n",
       "      <td>0.162290</td>\n",
       "      <td>0.265665</td>\n",
       "      <td>-0.005356</td>\n",
       "      <td>0.183801</td>\n",
       "    </tr>\n",
       "    <tr>\n",
       "      <th>2</th>\n",
       "      <td>-0.233962</td>\n",
       "      <td>-0.573875</td>\n",
       "      <td>-0.307769</td>\n",
       "      <td>-0.030413</td>\n",
       "      <td>0.205073</td>\n",
       "      <td>-0.116532</td>\n",
       "      <td>-0.459042</td>\n",
       "      <td>0.325063</td>\n",
       "      <td>-0.487988</td>\n",
       "      <td>-0.536044</td>\n",
       "      <td>-0.413809</td>\n",
       "      <td>-0.463663</td>\n",
       "      <td>-0.601550</td>\n",
       "      <td>-0.619241</td>\n",
       "      <td>-0.061780</td>\n",
       "      <td>0.010668</td>\n",
       "      <td>0.812786</td>\n",
       "      <td>0.698973</td>\n",
       "    </tr>\n",
       "  </tbody>\n",
       "</table>\n",
       "</div>"
      ],
      "text/plain": [
       "   compactness  circularity  distance_circularity  radius_ratio  \\\n",
       "0    -0.919871    -0.520093             -0.893208     -1.064356   \n",
       "1     1.130765     1.170942              1.195006      1.019095   \n",
       "2    -0.233962    -0.573875             -0.307769     -0.030413   \n",
       "\n",
       "   pr.axis_aspect_ratio  max.length_aspect_ratio  scatter_ratio  \\\n",
       "0             -0.500422                -0.219074      -0.779121   \n",
       "1              0.215052                 0.342508       1.271805   \n",
       "2              0.205073                -0.116532      -0.459042   \n",
       "\n",
       "   elongatedness  pr.axis_rectangularity  max.length_rectangularity  \\\n",
       "0       0.865893               -0.745356                  -0.484632   \n",
       "1      -1.190612                1.275484                   1.092668   \n",
       "2       0.325063               -0.487988                  -0.536044   \n",
       "\n",
       "   scaled_variance  scaled_variance.1  scaled_radius_of_gyration  \\\n",
       "0        -0.782403          -0.783411                  -0.384982   \n",
       "1         1.220381           1.281327                   1.079542   \n",
       "2        -0.413809          -0.463663                  -0.601550   \n",
       "\n",
       "   scaled_radius_of_gyration.1  skewness_about  skewness_about.1  \\\n",
       "0                     0.838787       -0.095243         -0.301716   \n",
       "1                    -0.028795        0.162290          0.265665   \n",
       "2                    -0.619241       -0.061780          0.010668   \n",
       "\n",
       "   skewness_about.2  hollows_ratio  \n",
       "0         -1.054206      -1.110695  \n",
       "1         -0.005356       0.183801  \n",
       "2          0.812786       0.698973  "
      ]
     },
     "execution_count": 77,
     "metadata": {},
     "output_type": "execute_result"
    }
   ],
   "source": [
    "dfCntr = pd.DataFrame(data = kmeans.cluster_centers_, columns=dfStd.columns)\n",
    "dfCntr.head()"
   ]
  },
  {
   "cell_type": "markdown",
   "metadata": {},
   "source": [
    "Hint: Use pd.Dataframe function "
   ]
  },
  {
   "cell_type": "markdown",
   "metadata": {},
   "source": [
    "### Use kmeans.labels_ function to print out the labels of the classes"
   ]
  },
  {
   "cell_type": "code",
   "execution_count": 79,
   "metadata": {},
   "outputs": [
    {
     "data": {
      "text/plain": [
       "array([2, 2, 1, 2, 0, 2, 2, 2, 2, 2, 2, 2, 2, 1, 0, 2, 1, 0, 0, 2, 2, 1,\n",
       "       2, 0, 1, 1, 0, 2, 2, 2, 1, 2, 0, 1, 1, 0, 1, 0, 0, 2, 1, 0, 0, 0,\n",
       "       0, 2, 0, 2, 1, 2, 1, 2, 2, 0, 1, 0, 1, 0, 0, 0, 2, 0, 1, 2, 1, 1,\n",
       "       2, 0, 2, 1, 2, 0, 0, 1, 2, 0, 2, 1, 2, 0, 2, 0, 1, 2, 1, 2, 0, 1,\n",
       "       0, 0, 1, 0, 0, 2, 2, 0, 1, 1, 0, 0, 1, 2, 2, 0, 0, 0, 2, 1, 1, 2,\n",
       "       0, 0, 2, 0, 0, 0, 0, 0, 2, 1, 1, 2, 2, 0, 1, 1, 0, 2, 0, 2, 2, 1,\n",
       "       0, 2, 1, 2, 2, 2, 2, 1, 2, 2, 1, 2, 1, 2, 0, 2, 0, 1, 2, 2, 1, 1,\n",
       "       2, 1, 0, 0, 1, 1, 2, 1, 2, 2, 2, 2, 0, 1, 0, 2, 0, 1, 2, 2, 2, 1,\n",
       "       2, 1, 2, 1, 2, 0, 1, 0, 0, 0, 2, 2, 1, 1, 2, 2, 2, 0, 1, 2, 2, 2,\n",
       "       1, 0, 0, 1, 0, 2, 1, 0, 0, 0, 2, 1, 2, 1, 0, 0, 0, 0, 1, 2, 0, 2,\n",
       "       1, 0, 2, 2, 0, 1, 0, 0, 2, 2, 1, 0, 1, 0, 2, 2, 1, 2, 2, 1, 1, 0,\n",
       "       2, 2, 2, 1, 0, 2, 2, 0, 0, 2, 2, 1, 2, 0, 0, 1, 2, 2, 0, 0, 1, 0,\n",
       "       2, 1, 0, 2, 1, 2, 2, 1, 2, 1, 0, 2, 2, 1, 2, 2, 2, 0, 2, 1, 1, 1,\n",
       "       1, 0, 2, 1, 0, 0, 0, 2, 0, 1, 1, 0, 1, 2, 0, 1, 2, 2, 2, 1, 1, 0,\n",
       "       1, 1, 0, 1, 2, 2, 2, 0, 0, 1, 1, 1, 2, 2, 2, 1, 0, 2, 0, 1, 2, 2,\n",
       "       1, 2, 1, 1, 1, 2, 0, 0, 1, 0, 0, 0, 2, 2, 2, 2, 0, 1, 1, 0, 0, 1,\n",
       "       0, 1, 0, 1, 2, 0, 2, 0, 1, 1, 0, 2, 2, 2, 1, 2, 2, 2, 2, 1, 2, 1,\n",
       "       2, 1, 2, 0, 0, 2, 2, 2, 0, 0, 2, 0, 1, 2, 2, 0, 0, 1, 2, 0, 2, 2,\n",
       "       1, 2, 1, 2, 1, 1, 0, 0, 1, 2, 0, 0, 2, 1, 1, 0, 2, 1, 1, 0, 1, 1,\n",
       "       1, 2, 2, 2, 2, 2, 1, 0, 0, 2, 1, 2, 2, 1, 2, 0, 1, 0, 0, 1, 2, 0,\n",
       "       1, 1, 1, 0, 1, 1, 0, 2, 0, 1, 1, 2, 2, 0, 0, 1, 2, 0, 1, 1, 2, 0,\n",
       "       1, 1, 2, 0, 0, 1, 1, 1, 0, 0, 1, 1, 1, 2, 2, 1, 0, 2, 1, 2, 0, 0,\n",
       "       2, 1, 0, 2, 2, 0, 2, 1, 2, 1, 1, 2, 0, 2, 1, 1, 0, 0, 2, 1, 2, 1,\n",
       "       1, 2, 2, 2, 2, 0, 0, 0, 2, 2, 1, 0, 0, 2, 0, 1, 2, 1, 0, 0, 1, 1,\n",
       "       2, 1, 2, 2, 2, 1, 2, 0, 2, 1, 2, 2, 0, 1, 1, 1, 1, 2, 0, 0, 0, 1,\n",
       "       1, 1, 2, 1, 0, 2, 1, 0, 0, 0, 2, 0, 1, 2, 2, 2, 2, 2, 2, 1, 2, 2,\n",
       "       1, 2, 2, 2, 0, 1, 0, 0, 2, 0, 2, 2, 0, 0, 1, 1, 0, 2, 1, 2, 1, 2,\n",
       "       2, 1, 2, 0, 1, 0, 1, 0, 0, 2, 0, 2, 1, 1, 0, 1, 2, 2, 0, 2, 0, 1,\n",
       "       2, 1, 0, 2, 2, 2, 0, 0, 0, 2, 1, 2, 1, 0, 2, 2, 2, 2, 1, 2, 0, 1,\n",
       "       2, 1, 2, 2, 1, 0, 1, 0, 2, 2, 2, 0, 1, 2, 0, 2, 1, 0, 1, 2, 2, 1,\n",
       "       0, 2, 0, 2, 2, 0, 2, 1, 1, 2, 2, 1, 1, 2, 2, 0, 2, 1, 1, 1, 1, 2,\n",
       "       1, 2, 2, 1, 1, 2, 1, 2, 1, 2, 0, 1, 2, 0, 1, 1, 1, 2, 1, 0, 0, 1,\n",
       "       1, 1, 2, 1, 2, 2, 1, 2, 0, 2, 0, 2, 1, 2, 0, 2, 2, 2, 0, 1, 0, 0,\n",
       "       0, 1, 1, 0, 1, 1, 0, 2, 2, 1, 2, 0, 1, 1, 0, 2, 2, 1, 1, 1, 0, 1,\n",
       "       2, 1, 1, 0, 0, 1, 0, 1, 2, 0, 2, 1, 1, 2, 0, 2, 1, 1, 2, 2, 0, 2,\n",
       "       2, 1, 0, 2, 1, 0, 0, 1, 0, 2, 0, 0, 0, 2, 1, 1, 2, 0, 1, 2, 1, 1,\n",
       "       0, 2, 1, 0, 0, 2, 2, 1, 0, 0, 1, 0, 2, 2, 2, 2, 2, 2, 1, 2, 0])"
      ]
     },
     "execution_count": 79,
     "metadata": {},
     "output_type": "execute_result"
    }
   ],
   "source": [
    "kmeans.labels_"
   ]
  },
  {
   "cell_type": "markdown",
   "metadata": {},
   "source": [
    "## Hierarchical Clustering "
   ]
  },
  {
   "cell_type": "markdown",
   "metadata": {},
   "source": [
    "### 8. Variable creation"
   ]
  },
  {
   "cell_type": "markdown",
   "metadata": {},
   "source": [
    "For Hierarchical clustering, we will create datasets using multivariate normal distribution to visually observe how the clusters are formed at the end"
   ]
  },
  {
   "cell_type": "code",
   "execution_count": 112,
   "metadata": {},
   "outputs": [],
   "source": [
    "a = np.random.multivariate_normal([10, 0], [[3, 1], [1, 4]], size=[100,])\n",
    "b = np.random.multivariate_normal([0, 20], [[3, 1], [1, 4]], size=[50,])\n",
    "c = np.random.multivariate_normal([10, 20], [[3, 1], [1, 4]], size=[100,])"
   ]
  },
  {
   "cell_type": "code",
   "execution_count": 124,
   "metadata": {},
   "outputs": [],
   "source": [
    "X = np.concatenate([a, b, c])"
   ]
  },
  {
   "cell_type": "markdown",
   "metadata": {},
   "source": [
    "### 9. Combine all three arrays a,b,c into a dataframe"
   ]
  },
  {
   "cell_type": "code",
   "execution_count": 134,
   "metadata": {},
   "outputs": [
    {
     "data": {
      "text/plain": [
       "pandas.core.frame.DataFrame"
      ]
     },
     "execution_count": 134,
     "metadata": {},
     "output_type": "execute_result"
    }
   ],
   "source": [
    "X = pd.DataFrame(data=X)\n",
    "type(X)"
   ]
  },
  {
   "cell_type": "markdown",
   "metadata": {},
   "source": [
    "### 10. Use scatter matrix to print all the 3 distributions"
   ]
  },
  {
   "cell_type": "code",
   "execution_count": 135,
   "metadata": {},
   "outputs": [
    {
     "name": "stdout",
     "output_type": "stream",
     "text": [
      "(250, 2)\n"
     ]
    },
    {
     "data": {
      "image/png": "[encoded data removed]",
      "text/plain": [
       "<Figure size 432x288 with 1 Axes>"
      ]
     },
     "metadata": {
      "needs_background": "light"
     },
     "output_type": "display_data"
    }
   ],
   "source": [
    "np.random.seed(101)\n",
    "print(X.shape)\n",
    "plt.scatter(X.iloc[:,0], X.iloc[:,1])\n",
    "plt.show()"
   ]
  },
  {
   "cell_type": "markdown",
   "metadata": {},
   "source": [
    "### 11. Find out the linkage matrix"
   ]
  },
  {
   "cell_type": "markdown",
   "metadata": {},
   "source": [
    "Use ward as linkage metric and distance as Eucledian"
   ]
  },
  {
   "cell_type": "code",
   "execution_count": 136,
   "metadata": {},
   "outputs": [
    {
     "data": {
      "text/plain": [
       "array([[1.72000000e+02, 1.80000000e+02, 4.82710336e-03, 2.00000000e+00],\n",
       "       [1.69000000e+02, 2.09000000e+02, 2.43987840e-02, 2.00000000e+00],\n",
       "       [1.02000000e+02, 1.19000000e+02, 7.01190338e-02, 2.00000000e+00],\n",
       "       [1.75000000e+02, 2.12000000e+02, 7.85846121e-02, 2.00000000e+00],\n",
       "       [1.98000000e+02, 2.28000000e+02, 7.89416604e-02, 2.00000000e+00],\n",
       "       [1.17000000e+02, 1.22000000e+02, 8.56893653e-02, 2.00000000e+00],\n",
       "       [5.80000000e+01, 9.10000000e+01, 8.80590787e-02, 2.00000000e+00],\n",
       "       [2.17000000e+02, 2.27000000e+02, 9.00972259e-02, 2.00000000e+00],\n",
       "       [1.64000000e+02, 1.73000000e+02, 9.33691135e-02, 2.00000000e+00],\n",
       "       [1.87000000e+02, 2.40000000e+02, 1.12652996e-01, 2.00000000e+00],\n",
       "       [2.80000000e+01, 9.50000000e+01, 1.18574318e-01, 2.00000000e+00],\n",
       "       [1.06000000e+02, 1.30000000e+02, 1.32776041e-01, 2.00000000e+00],\n",
       "       [1.13000000e+02, 2.52000000e+02, 1.45023164e-01, 3.00000000e+00],\n",
       "       [1.57000000e+02, 2.33000000e+02, 1.47267464e-01, 2.00000000e+00],\n",
       "       [1.68000000e+02, 1.90000000e+02, 1.59625359e-01, 2.00000000e+00],\n",
       "       [1.70000000e+01, 2.40000000e+01, 1.68349567e-01, 2.00000000e+00],\n",
       "       [1.61000000e+02, 2.30000000e+02, 1.69915559e-01, 2.00000000e+00],\n",
       "       [5.10000000e+01, 9.00000000e+01, 1.73254859e-01, 2.00000000e+00],\n",
       "       [5.40000000e+01, 7.90000000e+01, 1.77946828e-01, 2.00000000e+00],\n",
       "       [2.50000000e+01, 4.60000000e+01, 1.78706358e-01, 2.00000000e+00],\n",
       "       [1.58000000e+02, 2.15000000e+02, 1.86621249e-01, 2.00000000e+00],\n",
       "       [1.78000000e+02, 1.85000000e+02, 1.87665316e-01, 2.00000000e+00],\n",
       "       [2.19000000e+02, 2.57000000e+02, 1.95929458e-01, 3.00000000e+00],\n",
       "       [1.10000000e+02, 1.28000000e+02, 1.99668076e-01, 2.00000000e+00],\n",
       "       [1.56000000e+02, 1.94000000e+02, 2.01345628e-01, 2.00000000e+00],\n",
       "       [2.36000000e+02, 2.47000000e+02, 2.02302209e-01, 2.00000000e+00],\n",
       "       [2.21000000e+02, 2.37000000e+02, 2.05975054e-01, 2.00000000e+00],\n",
       "       [1.10000000e+01, 8.10000000e+01, 2.11374157e-01, 2.00000000e+00],\n",
       "       [1.30000000e+01, 3.70000000e+01, 2.14724251e-01, 2.00000000e+00],\n",
       "       [3.10000000e+01, 6.30000000e+01, 2.19173154e-01, 2.00000000e+00],\n",
       "       [6.80000000e+01, 9.70000000e+01, 2.20880570e-01, 2.00000000e+00],\n",
       "       [4.10000000e+01, 5.30000000e+01, 2.20985522e-01, 2.00000000e+00],\n",
       "       [1.79000000e+02, 2.41000000e+02, 2.22718738e-01, 2.00000000e+00],\n",
       "       [1.93000000e+02, 2.34000000e+02, 2.31275412e-01, 2.00000000e+00],\n",
       "       [1.74000000e+02, 2.39000000e+02, 2.31857811e-01, 2.00000000e+00],\n",
       "       [1.12000000e+02, 2.61000000e+02, 2.32040328e-01, 3.00000000e+00],\n",
       "       [1.00000000e+02, 1.39000000e+02, 2.35171097e-01, 2.00000000e+00],\n",
       "       [3.90000000e+01, 8.60000000e+01, 2.36409353e-01, 2.00000000e+00],\n",
       "       [7.20000000e+01, 7.60000000e+01, 2.42323640e-01, 2.00000000e+00],\n",
       "       [1.04000000e+02, 1.29000000e+02, 2.44549654e-01, 2.00000000e+00],\n",
       "       [1.95000000e+02, 2.38000000e+02, 2.51191938e-01, 2.00000000e+00],\n",
       "       [5.00000000e+00, 2.67000000e+02, 2.53330863e-01, 3.00000000e+00],\n",
       "       [2.07000000e+02, 2.71000000e+02, 2.56039573e-01, 3.00000000e+00],\n",
       "       [3.00000000e+01, 7.30000000e+01, 2.56522893e-01, 2.00000000e+00],\n",
       "       [7.40000000e+01, 9.80000000e+01, 2.60576437e-01, 2.00000000e+00],\n",
       "       [1.59000000e+02, 2.10000000e+02, 2.63897208e-01, 2.00000000e+00],\n",
       "       [4.80000000e+01, 7.50000000e+01, 2.64902379e-01, 2.00000000e+00],\n",
       "       [2.30000000e+01, 6.70000000e+01, 3.08686972e-01, 2.00000000e+00],\n",
       "       [1.60000000e+02, 2.22000000e+02, 3.12187420e-01, 2.00000000e+00],\n",
       "       [3.80000000e+01, 5.00000000e+01, 3.18278656e-01, 2.00000000e+00],\n",
       "       [1.86000000e+02, 2.14000000e+02, 3.25839522e-01, 2.00000000e+00],\n",
       "       [1.53000000e+02, 2.03000000e+02, 3.28155156e-01, 2.00000000e+00],\n",
       "       [2.51000000e+02, 2.53000000e+02, 3.30999983e-01, 4.00000000e+00],\n",
       "       [2.00000000e+02, 2.13000000e+02, 3.32185068e-01, 2.00000000e+00],\n",
       "       [9.00000000e+00, 4.90000000e+01, 3.35407185e-01, 2.00000000e+00],\n",
       "       [3.30000000e+01, 7.80000000e+01, 3.39226417e-01, 2.00000000e+00],\n",
       "       [2.00000000e+00, 6.10000000e+01, 3.39603520e-01, 2.00000000e+00],\n",
       "       [2.48000000e+02, 2.50000000e+02, 3.41610313e-01, 3.00000000e+00],\n",
       "       [2.04000000e+02, 2.35000000e+02, 3.41840322e-01, 2.00000000e+00],\n",
       "       [1.33000000e+02, 1.34000000e+02, 3.46128488e-01, 2.00000000e+00],\n",
       "       [4.00000000e+00, 2.60000000e+02, 3.55271707e-01, 3.00000000e+00],\n",
       "       [2.23000000e+02, 2.29000000e+02, 3.63252207e-01, 2.00000000e+00],\n",
       "       [1.09000000e+02, 2.86000000e+02, 3.65020476e-01, 3.00000000e+00],\n",
       "       [6.40000000e+01, 6.50000000e+01, 3.65967247e-01, 2.00000000e+00],\n",
       "       [1.66000000e+02, 1.71000000e+02, 3.67908866e-01, 2.00000000e+00],\n",
       "       [1.50000000e+02, 1.92000000e+02, 3.69790654e-01, 2.00000000e+00],\n",
       "       [2.90000000e+01, 7.10000000e+01, 3.73200285e-01, 2.00000000e+00],\n",
       "       [7.00000000e+01, 2.77000000e+02, 3.78087742e-01, 3.00000000e+00],\n",
       "       [5.60000000e+01, 3.06000000e+02, 3.86736629e-01, 3.00000000e+00],\n",
       "       [2.08000000e+02, 2.24000000e+02, 3.86780263e-01, 2.00000000e+00],\n",
       "       [1.24000000e+02, 1.36000000e+02, 3.87547056e-01, 2.00000000e+00],\n",
       "       [1.67000000e+02, 2.66000000e+02, 3.87719090e-01, 3.00000000e+00],\n",
       "       [3.00000000e+00, 2.60000000e+01, 3.87977674e-01, 2.00000000e+00],\n",
       "       [3.20000000e+01, 5.70000000e+01, 3.88429536e-01, 2.00000000e+00],\n",
       "       [1.77000000e+02, 2.44000000e+02, 4.00484561e-01, 2.00000000e+00],\n",
       "       [6.00000000e+00, 3.60000000e+01, 4.00749616e-01, 2.00000000e+00],\n",
       "       [1.96000000e+02, 2.64000000e+02, 4.01134749e-01, 3.00000000e+00],\n",
       "       [2.46000000e+02, 2.54000000e+02, 4.03287839e-01, 3.00000000e+00],\n",
       "       [1.89000000e+02, 1.91000000e+02, 4.05116433e-01, 2.00000000e+00],\n",
       "       [1.01000000e+02, 2.55000000e+02, 4.15236858e-01, 3.00000000e+00],\n",
       "       [2.10000000e+01, 4.50000000e+01, 4.15849238e-01, 2.00000000e+00],\n",
       "       [6.20000000e+01, 8.50000000e+01, 4.17455759e-01, 2.00000000e+00],\n",
       "       [8.80000000e+01, 2.93000000e+02, 4.26742641e-01, 3.00000000e+00],\n",
       "       [2.65000000e+02, 2.80000000e+02, 4.31989791e-01, 4.00000000e+00],\n",
       "       [1.50000000e+01, 5.20000000e+01, 4.39162309e-01, 2.00000000e+00],\n",
       "       [1.84000000e+02, 2.83000000e+02, 4.47973134e-01, 3.00000000e+00],\n",
       "       [1.55000000e+02, 2.42000000e+02, 4.52183818e-01, 2.00000000e+00],\n",
       "       [3.40000000e+01, 8.90000000e+01, 4.52722047e-01, 2.00000000e+00],\n",
       "       [1.80000000e+01, 2.69000000e+02, 4.73239207e-01, 3.00000000e+00],\n",
       "       [4.00000000e+01, 2.97000000e+02, 4.88536667e-01, 3.00000000e+00],\n",
       "       [1.20000000e+01, 2.96000000e+02, 5.04464005e-01, 3.00000000e+00],\n",
       "       [1.97000000e+02, 2.75000000e+02, 5.06706346e-01, 3.00000000e+00],\n",
       "       [1.54000000e+02, 3.35000000e+02, 5.09237951e-01, 4.00000000e+00],\n",
       "       [2.02000000e+02, 3.11000000e+02, 5.11181777e-01, 3.00000000e+00],\n",
       "       [1.90000000e+01, 8.40000000e+01, 5.13017951e-01, 2.00000000e+00],\n",
       "       [6.00000000e+01, 3.10000000e+02, 5.13104410e-01, 4.00000000e+00],\n",
       "       [1.20000000e+02, 2.73000000e+02, 5.19024370e-01, 3.00000000e+00],\n",
       "       [5.50000000e+01, 9.60000000e+01, 5.22164247e-01, 2.00000000e+00],\n",
       "       [1.15000000e+02, 3.20000000e+02, 5.24630277e-01, 3.00000000e+00],\n",
       "       [1.32000000e+02, 1.45000000e+02, 5.43974899e-01, 2.00000000e+00],\n",
       "       [2.11000000e+02, 3.01000000e+02, 5.46891548e-01, 3.00000000e+00],\n",
       "       [1.62000000e+02, 1.65000000e+02, 5.48783946e-01, 2.00000000e+00],\n",
       "       [2.00000000e+01, 9.40000000e+01, 5.49402239e-01, 2.00000000e+00],\n",
       "       [1.11000000e+02, 1.47000000e+02, 5.59150676e-01, 2.00000000e+00],\n",
       "       [8.00000000e+01, 3.16000000e+02, 5.90634992e-01, 3.00000000e+00],\n",
       "       [1.99000000e+02, 2.90000000e+02, 5.98522850e-01, 3.00000000e+00],\n",
       "       [1.37000000e+02, 3.09000000e+02, 6.12417293e-01, 3.00000000e+00],\n",
       "       [2.31000000e+02, 2.95000000e+02, 6.13206009e-01, 3.00000000e+00],\n",
       "       [1.07000000e+02, 1.08000000e+02, 6.16062145e-01, 2.00000000e+00],\n",
       "       [2.99000000e+02, 3.31000000e+02, 6.31757704e-01, 4.00000000e+00],\n",
       "       [2.43000000e+02, 3.03000000e+02, 6.33991597e-01, 3.00000000e+00],\n",
       "       [1.76000000e+02, 2.72000000e+02, 6.37069085e-01, 4.00000000e+00],\n",
       "       [1.03000000e+02, 2.89000000e+02, 6.38321754e-01, 3.00000000e+00],\n",
       "       [0.00000000e+00, 2.88000000e+02, 6.47643861e-01, 3.00000000e+00],\n",
       "       [2.94000000e+02, 3.40000000e+02, 6.48100607e-01, 5.00000000e+00],\n",
       "       [9.20000000e+01, 2.91000000e+02, 6.50230331e-01, 4.00000000e+00],\n",
       "       [6.90000000e+01, 3.38000000e+02, 6.52465537e-01, 4.00000000e+00],\n",
       "       [1.81000000e+02, 2.59000000e+02, 6.53518868e-01, 3.00000000e+00],\n",
       "       [1.82000000e+02, 3.41000000e+02, 6.63693428e-01, 4.00000000e+00],\n",
       "       [2.25000000e+02, 2.45000000e+02, 6.65960945e-01, 2.00000000e+00],\n",
       "       [4.30000000e+01, 2.68000000e+02, 7.05327636e-01, 3.00000000e+00],\n",
       "       [1.60000000e+01, 2.79000000e+02, 7.06272358e-01, 3.00000000e+00],\n",
       "       [8.20000000e+01, 3.66000000e+02, 7.10410192e-01, 5.00000000e+00],\n",
       "       [1.00000000e+01, 3.34000000e+02, 7.11678194e-01, 3.00000000e+00],\n",
       "       [2.78000000e+02, 3.23000000e+02, 7.25433310e-01, 4.00000000e+00],\n",
       "       [2.70000000e+02, 3.21000000e+02, 7.43269338e-01, 5.00000000e+00],\n",
       "       [1.14000000e+02, 1.42000000e+02, 7.61906017e-01, 2.00000000e+00],\n",
       "       [1.40000000e+01, 3.30000000e+02, 7.64050309e-01, 3.00000000e+00],\n",
       "       [2.06000000e+02, 2.16000000e+02, 7.67628506e-01, 2.00000000e+00],\n",
       "       [1.70000000e+02, 2.84000000e+02, 7.81455981e-01, 3.00000000e+00],\n",
       "       [2.63000000e+02, 3.14000000e+02, 7.89721943e-01, 4.00000000e+00],\n",
       "       [2.92000000e+02, 3.07000000e+02, 8.09452702e-01, 6.00000000e+00],\n",
       "       [1.18000000e+02, 3.49000000e+02, 8.51202930e-01, 3.00000000e+00],\n",
       "       [1.49000000e+02, 3.76000000e+02, 8.51525258e-01, 3.00000000e+00],\n",
       "       [8.70000000e+01, 3.65000000e+02, 8.53011264e-01, 5.00000000e+00],\n",
       "       [1.88000000e+02, 3.60000000e+02, 8.59036459e-01, 4.00000000e+00],\n",
       "       [1.21000000e+02, 3.46000000e+02, 8.64485131e-01, 4.00000000e+00],\n",
       "       [2.82000000e+02, 3.81000000e+02, 9.13605587e-01, 8.00000000e+00],\n",
       "       [2.58000000e+02, 3.26000000e+02, 9.40749533e-01, 5.00000000e+00],\n",
       "       [1.26000000e+02, 1.38000000e+02, 9.44994027e-01, 2.00000000e+00],\n",
       "       [3.25000000e+02, 3.33000000e+02, 9.47308847e-01, 6.00000000e+00],\n",
       "       [4.70000000e+01, 3.73000000e+02, 9.50433132e-01, 4.00000000e+00],\n",
       "       [1.83000000e+02, 3.36000000e+02, 9.79905453e-01, 3.00000000e+00],\n",
       "       [5.90000000e+01, 3.05000000e+02, 9.80220735e-01, 3.00000000e+00],\n",
       "       [1.44000000e+02, 3.12000000e+02, 9.80876763e-01, 4.00000000e+00],\n",
       "       [1.52000000e+02, 2.32000000e+02, 9.82258745e-01, 2.00000000e+00],\n",
       "       [3.18000000e+02, 3.39000000e+02, 9.84540134e-01, 6.00000000e+00],\n",
       "       [3.32000000e+02, 3.74000000e+02, 9.91610774e-01, 7.00000000e+00],\n",
       "       [2.18000000e+02, 3.67000000e+02, 1.02034603e+00, 4.00000000e+00],\n",
       "       [1.25000000e+02, 1.46000000e+02, 1.04604107e+00, 2.00000000e+00],\n",
       "       [1.51000000e+02, 3.57000000e+02, 1.04758682e+00, 4.00000000e+00],\n",
       "       [3.13000000e+02, 3.22000000e+02, 1.04766354e+00, 4.00000000e+00],\n",
       "       [3.19000000e+02, 3.50000000e+02, 1.09164061e+00, 5.00000000e+00],\n",
       "       [2.62000000e+02, 3.29000000e+02, 1.09367187e+00, 6.00000000e+00],\n",
       "       [2.74000000e+02, 3.00000000e+02, 1.10473452e+00, 4.00000000e+00],\n",
       "       [1.27000000e+02, 3.62000000e+02, 1.13990178e+00, 4.00000000e+00],\n",
       "       [3.02000000e+02, 3.08000000e+02, 1.16886459e+00, 6.00000000e+00],\n",
       "       [8.30000000e+01, 3.91000000e+02, 1.18084446e+00, 5.00000000e+00],\n",
       "       [3.45000000e+02, 3.77000000e+02, 1.20069662e+00, 7.00000000e+00],\n",
       "       [8.00000000e+00, 9.90000000e+01, 1.24579319e+00, 2.00000000e+00],\n",
       "       [2.56000000e+02, 3.63000000e+02, 1.27533895e+00, 5.00000000e+00],\n",
       "       [2.81000000e+02, 3.70000000e+02, 1.29731145e+00, 5.00000000e+00],\n",
       "       [9.30000000e+01, 3.72000000e+02, 1.33943973e+00, 6.00000000e+00],\n",
       "       [1.16000000e+02, 2.85000000e+02, 1.34178749e+00, 4.00000000e+00],\n",
       "       [2.26000000e+02, 3.85000000e+02, 1.36834069e+00, 5.00000000e+00],\n",
       "       [3.44000000e+02, 4.01000000e+02, 1.37634894e+00, 6.00000000e+00],\n",
       "       [3.28000000e+02, 3.51000000e+02, 1.38801763e+00, 4.00000000e+00],\n",
       "       [2.70000000e+01, 3.52000000e+02, 1.45416645e+00, 3.00000000e+00],\n",
       "       [3.50000000e+01, 4.40000000e+01, 1.46035878e+00, 2.00000000e+00],\n",
       "       [3.27000000e+02, 4.14000000e+02, 1.46166473e+00, 8.00000000e+00],\n",
       "       [3.24000000e+02, 3.78000000e+02, 1.53123559e+00, 4.00000000e+00],\n",
       "       [3.04000000e+02, 3.64000000e+02, 1.55157000e+00, 7.00000000e+00],\n",
       "       [2.87000000e+02, 3.17000000e+02, 1.57106041e+00, 5.00000000e+00],\n",
       "       [1.23000000e+02, 1.31000000e+02, 1.61462984e+00, 2.00000000e+00],\n",
       "       [3.61000000e+02, 3.87000000e+02, 1.61912841e+00, 1.20000000e+01],\n",
       "       [3.47000000e+02, 4.08000000e+02, 1.62567944e+00, 9.00000000e+00],\n",
       "       [7.00000000e+00, 3.71000000e+02, 1.63865117e+00, 4.00000000e+00],\n",
       "       [3.42000000e+02, 3.80000000e+02, 1.66875079e+00, 8.00000000e+00],\n",
       "       [3.55000000e+02, 3.79000000e+02, 1.67734325e+00, 6.00000000e+00],\n",
       "       [2.49000000e+02, 2.98000000e+02, 1.81530353e+00, 3.00000000e+00],\n",
       "       [2.20000000e+01, 4.09000000e+02, 1.85545858e+00, 3.00000000e+00],\n",
       "       [3.86000000e+02, 4.05000000e+02, 1.90593280e+00, 8.00000000e+00],\n",
       "       [4.06000000e+02, 4.24000000e+02, 1.91401822e+00, 1.80000000e+01],\n",
       "       [2.20000000e+02, 4.02000000e+02, 1.92166383e+00, 6.00000000e+00],\n",
       "       [3.48000000e+02, 3.82000000e+02, 1.92473156e+00, 6.00000000e+00],\n",
       "       [1.05000000e+02, 3.83000000e+02, 1.92995833e+00, 4.00000000e+00],\n",
       "       [3.68000000e+02, 3.75000000e+02, 1.96597183e+00, 9.00000000e+00],\n",
       "       [3.89000000e+02, 3.99000000e+02, 2.05266341e+00, 4.00000000e+00],\n",
       "       [3.59000000e+02, 3.84000000e+02, 2.05858590e+00, 9.00000000e+00],\n",
       "       [3.69000000e+02, 4.04000000e+02, 2.09045870e+00, 6.00000000e+00],\n",
       "       [3.15000000e+02, 3.92000000e+02, 2.11649201e+00, 5.00000000e+00],\n",
       "       [4.00000000e+02, 4.16000000e+02, 2.16583658e+00, 8.00000000e+00],\n",
       "       [3.90000000e+02, 4.25000000e+02, 2.20737731e+00, 1.50000000e+01],\n",
       "       [4.10000000e+02, 4.12000000e+02, 2.21588940e+00, 1.10000000e+01],\n",
       "       [7.70000000e+01, 3.54000000e+02, 2.21698039e+00, 4.00000000e+00],\n",
       "       [3.94000000e+02, 4.13000000e+02, 2.26217846e+00, 8.00000000e+00],\n",
       "       [3.97000000e+02, 4.22000000e+02, 2.28923499e+00, 1.20000000e+01],\n",
       "       [3.37000000e+02, 3.96000000e+02, 2.29711127e+00, 8.00000000e+00],\n",
       "       [1.40000000e+02, 1.41000000e+02, 2.34057783e+00, 2.00000000e+00],\n",
       "       [3.43000000e+02, 4.36000000e+02, 2.39321423e+00, 1.20000000e+01],\n",
       "       [1.00000000e+00, 4.47000000e+02, 2.41920957e+00, 9.00000000e+00],\n",
       "       [6.60000000e+01, 4.15000000e+02, 2.49346148e+00, 7.00000000e+00],\n",
       "       [2.01000000e+02, 4.19000000e+02, 2.55385486e+00, 9.00000000e+00],\n",
       "       [1.43000000e+02, 4.34000000e+02, 2.59075468e+00, 7.00000000e+00],\n",
       "       [1.48000000e+02, 3.56000000e+02, 2.60066691e+00, 4.00000000e+00],\n",
       "       [1.35000000e+02, 3.58000000e+02, 2.66882711e+00, 3.00000000e+00],\n",
       "       [4.20000000e+01, 3.93000000e+02, 2.74956775e+00, 4.00000000e+00],\n",
       "       [3.98000000e+02, 4.39000000e+02, 2.82684456e+00, 1.00000000e+01],\n",
       "       [2.05000000e+02, 4.41000000e+02, 2.87892830e+00, 9.00000000e+00],\n",
       "       [4.17000000e+02, 4.26000000e+02, 3.16620649e+00, 7.00000000e+00],\n",
       "       [4.11000000e+02, 4.38000000e+02, 3.16820703e+00, 1.40000000e+01],\n",
       "       [2.76000000e+02, 4.58000000e+02, 3.29835923e+00, 1.10000000e+01],\n",
       "       [3.88000000e+02, 4.32000000e+02, 3.30055890e+00, 2.30000000e+01],\n",
       "       [4.29000000e+02, 4.40000000e+02, 3.32564309e+00, 8.00000000e+00],\n",
       "       [4.03000000e+02, 4.31000000e+02, 3.39047663e+00, 1.40000000e+01],\n",
       "       [4.37000000e+02, 4.54000000e+02, 3.43694335e+00, 8.00000000e+00],\n",
       "       [4.44000000e+02, 4.56000000e+02, 3.48250394e+00, 8.00000000e+00],\n",
       "       [4.20000000e+02, 4.49000000e+02, 3.62141372e+00, 1.60000000e+01],\n",
       "       [4.23000000e+02, 4.55000000e+02, 3.88722475e+00, 5.00000000e+00],\n",
       "       [4.28000000e+02, 4.33000000e+02, 3.97539529e+00, 1.20000000e+01],\n",
       "       [1.63000000e+02, 4.27000000e+02, 4.01550985e+00, 9.00000000e+00],\n",
       "       [3.53000000e+02, 4.45000000e+02, 4.56502703e+00, 1.00000000e+01],\n",
       "       [4.18000000e+02, 4.21000000e+02, 5.02106371e+00, 9.00000000e+00],\n",
       "       [4.07000000e+02, 4.30000000e+02, 5.27840332e+00, 8.00000000e+00],\n",
       "       [3.95000000e+02, 4.52000000e+02, 5.33659815e+00, 1.10000000e+01],\n",
       "       [4.63000000e+02, 4.69000000e+02, 5.88771067e+00, 2.00000000e+01],\n",
       "       [4.53000000e+02, 4.71000000e+02, 6.03814378e+00, 1.70000000e+01],\n",
       "       [4.43000000e+02, 4.72000000e+02, 6.20181651e+00, 2.00000000e+01],\n",
       "       [4.57000000e+02, 4.62000000e+02, 6.25747309e+00, 3.30000000e+01],\n",
       "       [4.60000000e+02, 4.73000000e+02, 6.39391391e+00, 2.20000000e+01],\n",
       "       [4.46000000e+02, 4.50000000e+02, 6.48143973e+00, 2.10000000e+01],\n",
       "       [4.67000000e+02, 4.70000000e+02, 6.48469664e+00, 2.50000000e+01],\n",
       "       [4.42000000e+02, 4.66000000e+02, 6.61147295e+00, 2.30000000e+01],\n",
       "       [4.48000000e+02, 4.64000000e+02, 6.98821002e+00, 1.60000000e+01],\n",
       "       [4.51000000e+02, 4.80000000e+02, 7.11752319e+00, 2.80000000e+01],\n",
       "       [4.68000000e+02, 4.83000000e+02, 7.83005054e+00, 2.10000000e+01],\n",
       "       [4.35000000e+02, 4.76000000e+02, 9.54036158e+00, 2.10000000e+01],\n",
       "       [4.59000000e+02, 4.79000000e+02, 9.58022911e+00, 2.90000000e+01],\n",
       "       [4.74000000e+02, 4.78000000e+02, 1.09842259e+01, 4.40000000e+01],\n",
       "       [4.61000000e+02, 4.81000000e+02, 1.14462995e+01, 3.60000000e+01],\n",
       "       [4.65000000e+02, 4.85000000e+02, 1.15463022e+01, 2.90000000e+01],\n",
       "       [4.77000000e+02, 4.82000000e+02, 1.38162818e+01, 4.30000000e+01],\n",
       "       [4.86000000e+02, 4.90000000e+02, 1.59419785e+01, 5.00000000e+01],\n",
       "       [4.87000000e+02, 4.91000000e+02, 1.75410378e+01, 7.20000000e+01],\n",
       "       [4.75000000e+02, 4.89000000e+02, 1.83141968e+01, 5.60000000e+01],\n",
       "       [4.88000000e+02, 4.94000000e+02, 2.29585905e+01, 1.00000000e+02],\n",
       "       [4.84000000e+02, 4.93000000e+02, 2.62714740e+01, 1.00000000e+02],\n",
       "       [4.92000000e+02, 4.95000000e+02, 8.24340339e+01, 1.50000000e+02],\n",
       "       [4.96000000e+02, 4.97000000e+02, 2.21638537e+02, 2.50000000e+02]])"
      ]
     },
     "execution_count": 136,
     "metadata": {},
     "output_type": "execute_result"
    }
   ],
   "source": [
    "# generate the linkage matrix\n",
    "Z = linkage(X, 'ward', metric='euclidean')\n",
    "Z"
   ]
  },
  {
   "cell_type": "markdown",
   "metadata": {},
   "source": [
    "### 12. Plot the dendrogram for the consolidated dataframe"
   ]
  },
  {
   "cell_type": "code",
   "execution_count": 137,
   "metadata": {},
   "outputs": [
    {
     "data": {
      "image/png": "[encoded data removed]",
      "text/plain": [
       "<Figure size 1800x720 with 1 Axes>"
      ]
     },
     "metadata": {
      "needs_background": "light"
     },
     "output_type": "display_data"
    }
   ],
   "source": [
    "# calculate full dendrogram\n",
    "plt.figure(figsize=(25, 10))\n",
    "plt.title('Hierarchical Clustering Dendrogram')\n",
    "plt.xlabel('sample index')\n",
    "plt.ylabel('distance')\n",
    "dendrogram(\n",
    "    Z,\n",
    "    leaf_rotation=90.,  # rotates the x axis labels\n",
    "    leaf_font_size=8.,  # font size for the x axis labels\n",
    ")\n",
    "plt.show()"
   ]
  },
  {
   "cell_type": "markdown",
   "metadata": {},
   "source": [
    "### 13. Recreate the dendrogram for last 12 merged clusters "
   ]
  },
  {
   "cell_type": "markdown",
   "metadata": {},
   "source": [
    "Hint: Use truncate_mode='lastp' attribute in dendrogram function to arrive at dendrogram "
   ]
  },
  {
   "cell_type": "code",
   "execution_count": 138,
   "metadata": {},
   "outputs": [
    {
     "data": {
      "image/png": "[encoded data removed]",
      "text/plain": [
       "<Figure size 432x288 with 1 Axes>"
      ]
     },
     "metadata": {
      "needs_background": "light"
     },
     "output_type": "display_data"
    }
   ],
   "source": [
    "plt.title('Hierarchical Clustering Dendrogram (truncated)')\n",
    "plt.xlabel('sample index or (cluster size)')\n",
    "plt.ylabel('distance')\n",
    "dendrogram(\n",
    "    Z,\n",
    "    truncate_mode='lastp',\n",
    "    p=12,\n",
    "    leaf_rotation=90.,\n",
    "    leaf_font_size=12.,\n",
    ")\n",
    "plt.show()"
   ]
  },
  {
   "cell_type": "markdown",
   "metadata": {},
   "source": [
    "### 14. From the truncated dendrogram, find out the optimal distance between clusters which u want to use an input for clustering data"
   ]
  },
  {
   "cell_type": "code",
   "execution_count": 106,
   "metadata": {},
   "outputs": [],
   "source": [
    "from scipy.cluster.hierarchy import fcluster\n",
    "max_d = 80"
   ]
  },
  {
   "cell_type": "markdown",
   "metadata": {},
   "source": [
    "### 15. Using this distance measure and fcluster function to cluster the data into 3 different groups"
   ]
  },
  {
   "cell_type": "code",
   "execution_count": 139,
   "metadata": {},
   "outputs": [
    {
     "data": {
      "text/plain": [
       "array([1, 1, 1, 1, 1, 1, 1, 1, 1, 1, 1, 1, 1, 1, 1, 1, 1, 1, 1, 1, 1, 1,\n",
       "       1, 1, 1, 1, 1, 1, 1, 1, 1, 1, 1, 1, 1, 1, 1, 1, 1, 1, 1, 1, 1, 1,\n",
       "       1, 1, 1, 1, 1, 1, 1, 1, 1, 1, 1, 1, 1, 1, 1, 1, 1, 1, 1, 1, 1, 1,\n",
       "       1, 1, 1, 1, 1, 1, 1, 1, 1, 1, 1, 1, 1, 1, 1, 1, 1, 1, 1, 1, 1, 1,\n",
       "       1, 1, 1, 1, 1, 1, 1, 1, 1, 1, 1, 1, 2, 2, 2, 2, 2, 2, 2, 2, 2, 2,\n",
       "       2, 2, 2, 2, 2, 2, 2, 2, 2, 2, 2, 2, 2, 2, 2, 2, 2, 2, 2, 2, 2, 2,\n",
       "       2, 2, 2, 2, 2, 2, 2, 2, 2, 2, 2, 2, 2, 2, 2, 2, 2, 2, 3, 3, 3, 3,\n",
       "       3, 3, 3, 3, 3, 3, 3, 3, 3, 3, 3, 3, 3, 3, 3, 3, 3, 3, 3, 3, 3, 3,\n",
       "       3, 3, 3, 3, 3, 3, 3, 3, 3, 3, 3, 3, 3, 3, 3, 3, 3, 3, 3, 3, 3, 3,\n",
       "       3, 3, 3, 3, 3, 3, 3, 3, 3, 3, 3, 3, 3, 3, 3, 3, 3, 3, 3, 3, 3, 3,\n",
       "       3, 3, 3, 3, 3, 3, 3, 3, 3, 3, 3, 3, 3, 3, 3, 3, 3, 3, 3, 3, 3, 3,\n",
       "       3, 3, 3, 3, 3, 3, 3, 3], dtype=int32)"
      ]
     },
     "execution_count": 139,
     "metadata": {},
     "output_type": "execute_result"
    }
   ],
   "source": [
    "clusters = fcluster(Z, max_d, criterion='distance')\n",
    "clusters"
   ]
  },
  {
   "cell_type": "markdown",
   "metadata": {},
   "source": [
    "### Use matplotlib to visually observe the clusters in 2D space "
   ]
  },
  {
   "cell_type": "code",
   "execution_count": 142,
   "metadata": {},
   "outputs": [
    {
     "data": {
      "image/png": "[encoded data removed]",
      "text/plain": [
       "<Figure size 720x576 with 1 Axes>"
      ]
     },
     "metadata": {
      "needs_background": "light"
     },
     "output_type": "display_data"
    }
   ],
   "source": [
    "plt.figure(figsize=(10, 8))\n",
    "plt.scatter(X.iloc[:,0], X.iloc[:,1], c=clusters, cmap='prism')  # plot points with cluster dependent colors\n",
    "plt.show()"
   ]
  }
 ],
 "metadata": {
  "kernelspec": {
   "display_name": "Python 3",
   "language": "python",
   "name": "python3"
  },
  "language_info": {
   "codemirror_mode": {
    "name": "ipython",
    "version": 3
   },
   "file_extension": ".py",
   "mimetype": "text/x-python",
   "name": "python",
   "nbconvert_exporter": "python",
   "pygments_lexer": "ipython3",
   "version": "3.7.1"
  }
 },
 "nbformat": 4,
 "nbformat_minor": 2
}
