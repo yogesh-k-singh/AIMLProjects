{
  "nbformat": 4,
  "nbformat_minor": 0,
  "metadata": {
    "colab": {
      "name": "R8_External_Lab_Questions_CIFAR10_Transfer_Learning_TFIDF_Text_Classification.ipynb",
      "provenance": [],
      "collapsed_sections": []
    },
    "kernelspec": {
      "name": "python3",
      "display_name": "Python 3"
    },
    "accelerator": "GPU"
  },
  "cells": [
    {
      "cell_type": "markdown",
      "metadata": {
        "id": "QGIsF1ADyJ58",
        "colab_type": "text"
      },
      "source": [
        "# Transfer Learning CIFAR10"
      ]
    },
    {
      "cell_type": "markdown",
      "metadata": {
        "id": "E-n6tVFayGBe",
        "colab_type": "text"
      },
      "source": [
        "* Train a simple convnet on the CIFAR dataset the first 5 output classes [0..4].\n",
        "* Freeze convolutional layers and fine-tune dense layers for the last 5 ouput classes [5..9].\n"
      ]
    },
    {
      "cell_type": "code",
      "metadata": {
        "id": "IwhclcMSiwQx",
        "colab_type": "code",
        "colab": {}
      },
      "source": [
        "import keras\n",
        "from keras.datasets import cifar10\n",
        "from keras.models import Sequential\n",
        "from keras.layers import Dense, Dropout, Activation, Flatten\n",
        "from keras.layers import Conv2D, MaxPooling2D\n",
        "from keras.constraints import maxnorm\n",
        "import pandas as pd\n",
        "from sklearn.linear_model import LogisticRegression\n",
        "from sklearn import metrics\n",
        "import warnings\n",
        "warnings.filterwarnings(\"ignore\")"
      ],
      "execution_count": 0,
      "outputs": []
    },
    {
      "cell_type": "code",
      "metadata": {
        "id": "jirkHSzhi2P9",
        "colab_type": "code",
        "colab": {}
      },
      "source": [
        "batch_size = 64\n",
        "num_classes = 5\n",
        "epochs = 25\n",
        "lrate = 0.01\n",
        "decay = lrate/epochs"
      ],
      "execution_count": 0,
      "outputs": []
    },
    {
      "cell_type": "markdown",
      "metadata": {
        "id": "Cq8ejXHJyGYq",
        "colab_type": "text"
      },
      "source": [
        "### 1. Import CIFAR10 data and create 2 datasets with one dataset having classes from 0 to 4 and other having classes from 5 to 9 "
      ]
    },
    {
      "cell_type": "code",
      "metadata": {
        "id": "uWYbxnBayFUP",
        "colab_type": "code",
        "colab": {}
      },
      "source": [
        "# The data, split between train and test sets:\n",
        "(x_train, y_train), (x_test, y_test) = cifar10.load_data()"
      ],
      "execution_count": 0,
      "outputs": []
    },
    {
      "cell_type": "code",
      "metadata": {
        "id": "P5L_W347gP_U",
        "colab_type": "code",
        "colab": {}
      },
      "source": [
        "# create two datasets one with digits below 5 and one with 5 and above\n",
        "x_train_lt5 = x_train[y_train[:, 0] < 5]\n",
        "y_train_lt5 = y_train[y_train < 5]\n",
        "x_test_lt5 = x_test[y_test[:, 0] < 5]\n",
        "y_test_lt5 = y_test[y_test < 5]\n",
        "\n",
        "x_train_gte5 = x_train[y_train[:, 0] >= 5]\n",
        "y_train_gte5 = y_train[y_train >= 5] - 5\n",
        "x_test_gte5 = x_test[y_test[:, 0] >= 5]\n",
        "y_test_gte5 = y_test[y_test >= 5] - 5"
      ],
      "execution_count": 0,
      "outputs": []
    },
    {
      "cell_type": "code",
      "metadata": {
        "id": "Kbs2HjUxuzhc",
        "colab_type": "code",
        "outputId": "a7f38a6c-ad6c-4d98-bb6d-9316a6e7fee6",
        "colab": {
          "base_uri": "https://localhost:8080/",
          "height": 84
        }
      },
      "source": [
        "print(x_train_lt5.shape,y_train_lt5.shape)\n",
        "print(x_test_lt5.shape,y_test_lt5.shape)\n",
        "print(x_train_gte5.shape,y_train_gte5.shape)\n",
        "print(x_test_gte5.shape,y_test_gte5.shape)"
      ],
      "execution_count": 69,
      "outputs": [
        {
          "output_type": "stream",
          "text": [
            "(25000, 32, 32, 3) (25000,)\n",
            "(5000, 32, 32, 3) (5000,)\n",
            "(25000, 32, 32, 3) (25000,)\n",
            "(5000, 32, 32, 3) (5000,)\n"
          ],
          "name": "stdout"
        }
      ]
    },
    {
      "cell_type": "markdown",
      "metadata": {
        "id": "xtCKmQh4yXhT",
        "colab_type": "text"
      },
      "source": [
        "### 2. Use One-hot encoding to divide y_train and y_test into required no of output classes"
      ]
    },
    {
      "cell_type": "code",
      "metadata": {
        "id": "uN5O2kJ3yYa6",
        "colab_type": "code",
        "colab": {}
      },
      "source": [
        "# normalize inputs from 0-255 to 0.0-1.0\n",
        "x_train_lt5 = x_train_lt5.astype('float32')\n",
        "x_test_lt5 = x_test_lt5.astype('float32')\n",
        "x_train_gte5 = x_train_gte5.astype('float32')\n",
        "x_test_gte5 = x_test_gte5.astype('float32')\n",
        "x_train_lt5 /= 255\n",
        "x_test_lt5 /= 255\n",
        "x_train_gte5 /= 255\n",
        "x_test_gte5 /= 255\n",
        "\n",
        "# one hot encode outputs\n",
        "y_train_lt5 = keras.utils.to_categorical(y_train_lt5, num_classes)\n",
        "y_test_lt5 = keras.utils.to_categorical(y_test_lt5, num_classes)\n",
        "y_train_gte5 = keras.utils.to_categorical(y_train_gte5, num_classes)\n",
        "y_test_gte5 = keras.utils.to_categorical(y_test_gte5, num_classes)\n"
      ],
      "execution_count": 0,
      "outputs": []
    },
    {
      "cell_type": "markdown",
      "metadata": {
        "id": "cuOiKWfeybAl",
        "colab_type": "text"
      },
      "source": [
        "### 3. Build a sequential neural network model which can classify the classes 0 to 4 of CIFAR10 dataset with at least 80% accuracy on test data"
      ]
    },
    {
      "cell_type": "code",
      "metadata": {
        "id": "PmBgJY4P5y71",
        "colab_type": "code",
        "outputId": "816a440e-274a-41ed-a6fb-20bbeb9447d3",
        "colab": {
          "base_uri": "https://localhost:8080/",
          "height": 1000
        }
      },
      "source": [
        "model = Sequential()\n",
        "model.add(Conv2D(32, (3, 3), input_shape=x_train_lt5.shape[1:], activation='relu', padding='same'))\n",
        "model.add(Dropout(0.2))\n",
        "model.add(Conv2D(32, (3, 3), activation='relu', padding='same'))\n",
        "model.add(MaxPooling2D())\n",
        "model.add(Conv2D(64, (3, 3), activation='relu', padding='same'))\n",
        "model.add(Dropout(0.2))\n",
        "model.add(Conv2D(64, (3, 3), activation='relu', padding='same'))\n",
        "model.add(MaxPooling2D())\n",
        "model.add(Conv2D(128, (3, 3), activation='relu', padding='same'))\n",
        "model.add(Dropout(0.2))\n",
        "model.add(Conv2D(128, (3, 3), activation='relu', padding='same'))\n",
        "model.add(MaxPooling2D())\n",
        "model.add(Flatten())\n",
        "model.add(Dropout(0.2))\n",
        "model.add(Dense(1024, activation='relu', kernel_constraint=maxnorm(3)))\n",
        "model.add(Dropout(0.2))\n",
        "model.add(Dense(512, activation='relu', kernel_constraint=maxnorm(3)))\n",
        "model.add(Dropout(0.2))\n",
        "model.add(Dense(num_classes, activation='softmax'))\n",
        "\n",
        "# initiate SGD optimizer\n",
        "opt = keras.optimizers.sgd(lr=lrate, momentum=0.9, decay=decay, nesterov=False)\n",
        "\n",
        "# Let's train the model using SGD\n",
        "model.compile(loss='categorical_crossentropy', optimizer=opt, metrics=['accuracy'])\n",
        "model.summary()\n",
        "\n",
        "# Fit the model\n",
        "model.fit(x_train_lt5, y_train_lt5, validation_data=(x_test_lt5, y_test_lt5), epochs=epochs, batch_size=64)\n",
        "\n",
        "# Final evaluation of the model\n",
        "scores = model.evaluate(x_test_lt5, y_test_lt5, verbose=0)\n",
        "print(\"Accuracy: %.2f%%\" % (scores[1]*100))"
      ],
      "execution_count": 73,
      "outputs": [
        {
          "output_type": "stream",
          "text": [
            "Model: \"sequential_2\"\n",
            "_________________________________________________________________\n",
            "Layer (type)                 Output Shape              Param #   \n",
            "=================================================================\n",
            "conv2d_7 (Conv2D)            (None, 32, 32, 32)        896       \n",
            "_________________________________________________________________\n",
            "dropout_7 (Dropout)          (None, 32, 32, 32)        0         \n",
            "_________________________________________________________________\n",
            "conv2d_8 (Conv2D)            (None, 32, 32, 32)        9248      \n",
            "_________________________________________________________________\n",
            "max_pooling2d_4 (MaxPooling2 (None, 16, 16, 32)        0         \n",
            "_________________________________________________________________\n",
            "conv2d_9 (Conv2D)            (None, 16, 16, 64)        18496     \n",
            "_________________________________________________________________\n",
            "dropout_8 (Dropout)          (None, 16, 16, 64)        0         \n",
            "_________________________________________________________________\n",
            "conv2d_10 (Conv2D)           (None, 16, 16, 64)        36928     \n",
            "_________________________________________________________________\n",
            "max_pooling2d_5 (MaxPooling2 (None, 8, 8, 64)          0         \n",
            "_________________________________________________________________\n",
            "conv2d_11 (Conv2D)           (None, 8, 8, 128)         73856     \n",
            "_________________________________________________________________\n",
            "dropout_9 (Dropout)          (None, 8, 8, 128)         0         \n",
            "_________________________________________________________________\n",
            "conv2d_12 (Conv2D)           (None, 8, 8, 128)         147584    \n",
            "_________________________________________________________________\n",
            "max_pooling2d_6 (MaxPooling2 (None, 4, 4, 128)         0         \n",
            "_________________________________________________________________\n",
            "flatten_2 (Flatten)          (None, 2048)              0         \n",
            "_________________________________________________________________\n",
            "dropout_10 (Dropout)         (None, 2048)              0         \n",
            "_________________________________________________________________\n",
            "dense_4 (Dense)              (None, 1024)              2098176   \n",
            "_________________________________________________________________\n",
            "dropout_11 (Dropout)         (None, 1024)              0         \n",
            "_________________________________________________________________\n",
            "dense_5 (Dense)              (None, 512)               524800    \n",
            "_________________________________________________________________\n",
            "dropout_12 (Dropout)         (None, 512)               0         \n",
            "_________________________________________________________________\n",
            "dense_6 (Dense)              (None, 5)                 2565      \n",
            "=================================================================\n",
            "Total params: 2,912,549\n",
            "Trainable params: 2,912,549\n",
            "Non-trainable params: 0\n",
            "_________________________________________________________________\n",
            "Train on 25000 samples, validate on 5000 samples\n",
            "Epoch 1/25\n",
            "25000/25000 [==============================] - 12s 474us/step - loss: 1.4112 - acc: 0.3844 - val_loss: 1.4092 - val_acc: 0.3890\n",
            "Epoch 2/25\n",
            "25000/25000 [==============================] - 11s 432us/step - loss: 1.0822 - acc: 0.5513 - val_loss: 0.9172 - val_acc: 0.6366\n",
            "Epoch 3/25\n",
            "25000/25000 [==============================] - 11s 429us/step - loss: 0.9324 - acc: 0.6254 - val_loss: 0.9510 - val_acc: 0.6212\n",
            "Epoch 4/25\n",
            "25000/25000 [==============================] - 11s 429us/step - loss: 0.8537 - acc: 0.6637 - val_loss: 0.8872 - val_acc: 0.6408\n",
            "Epoch 5/25\n",
            "25000/25000 [==============================] - 11s 432us/step - loss: 0.7858 - acc: 0.6933 - val_loss: 0.7428 - val_acc: 0.7142\n",
            "Epoch 6/25\n",
            "25000/25000 [==============================] - 11s 431us/step - loss: 0.7416 - acc: 0.7140 - val_loss: 0.7515 - val_acc: 0.7062\n",
            "Epoch 7/25\n",
            "25000/25000 [==============================] - 11s 432us/step - loss: 0.6873 - acc: 0.7350 - val_loss: 0.6755 - val_acc: 0.7404\n",
            "Epoch 8/25\n",
            "25000/25000 [==============================] - 11s 430us/step - loss: 0.6501 - acc: 0.7494 - val_loss: 0.6651 - val_acc: 0.7422\n",
            "Epoch 9/25\n",
            "25000/25000 [==============================] - 11s 435us/step - loss: 0.6137 - acc: 0.7630 - val_loss: 0.6186 - val_acc: 0.7644\n",
            "Epoch 10/25\n",
            "25000/25000 [==============================] - 11s 435us/step - loss: 0.5839 - acc: 0.7791 - val_loss: 0.6256 - val_acc: 0.7596\n",
            "Epoch 11/25\n",
            "25000/25000 [==============================] - 11s 432us/step - loss: 0.5481 - acc: 0.7932 - val_loss: 0.5910 - val_acc: 0.7768\n",
            "Epoch 12/25\n",
            "25000/25000 [==============================] - 11s 433us/step - loss: 0.5333 - acc: 0.7987 - val_loss: 0.5782 - val_acc: 0.7788\n",
            "Epoch 13/25\n",
            "25000/25000 [==============================] - 11s 432us/step - loss: 0.5063 - acc: 0.8075 - val_loss: 0.5405 - val_acc: 0.7962\n",
            "Epoch 14/25\n",
            "25000/25000 [==============================] - 11s 431us/step - loss: 0.4784 - acc: 0.8195 - val_loss: 0.5447 - val_acc: 0.7926\n",
            "Epoch 15/25\n",
            "25000/25000 [==============================] - 11s 431us/step - loss: 0.4596 - acc: 0.8278 - val_loss: 0.5317 - val_acc: 0.8034\n",
            "Epoch 16/25\n",
            "25000/25000 [==============================] - 11s 432us/step - loss: 0.4408 - acc: 0.8350 - val_loss: 0.5226 - val_acc: 0.8056\n",
            "Epoch 17/25\n",
            "25000/25000 [==============================] - 11s 431us/step - loss: 0.4146 - acc: 0.8434 - val_loss: 0.5105 - val_acc: 0.8118\n",
            "Epoch 18/25\n",
            "25000/25000 [==============================] - 11s 432us/step - loss: 0.4034 - acc: 0.8492 - val_loss: 0.5252 - val_acc: 0.8052\n",
            "Epoch 19/25\n",
            "25000/25000 [==============================] - 11s 433us/step - loss: 0.3833 - acc: 0.8560 - val_loss: 0.5070 - val_acc: 0.8178\n",
            "Epoch 20/25\n",
            "25000/25000 [==============================] - 11s 431us/step - loss: 0.3641 - acc: 0.8634 - val_loss: 0.4919 - val_acc: 0.8228\n",
            "Epoch 21/25\n",
            "25000/25000 [==============================] - 11s 432us/step - loss: 0.3494 - acc: 0.8698 - val_loss: 0.4804 - val_acc: 0.8272\n",
            "Epoch 22/25\n",
            "25000/25000 [==============================] - 11s 431us/step - loss: 0.3352 - acc: 0.8768 - val_loss: 0.5053 - val_acc: 0.8188\n",
            "Epoch 23/25\n",
            "25000/25000 [==============================] - 11s 431us/step - loss: 0.3234 - acc: 0.8776 - val_loss: 0.4952 - val_acc: 0.8250\n",
            "Epoch 24/25\n",
            "25000/25000 [==============================] - 11s 430us/step - loss: 0.3062 - acc: 0.8866 - val_loss: 0.5102 - val_acc: 0.8190\n",
            "Epoch 25/25\n",
            "25000/25000 [==============================] - 11s 431us/step - loss: 0.2924 - acc: 0.8902 - val_loss: 0.5034 - val_acc: 0.8244\n",
            "Accuracy: 82.44%\n"
          ],
          "name": "stdout"
        }
      ]
    },
    {
      "cell_type": "markdown",
      "metadata": {
        "id": "woTfNst_ynRG",
        "colab_type": "text"
      },
      "source": [
        "### 4. In the model which was built above (for classification of classes 0-4 in CIFAR10), make only the dense layers to be trainable and conv layers to be non-trainable"
      ]
    },
    {
      "cell_type": "code",
      "metadata": {
        "id": "l_5-UDmS2Bcu",
        "colab_type": "code",
        "outputId": "824c83fe-8a64-4478-da8b-f8a7e34f9f68",
        "colab": {
          "base_uri": "https://localhost:8080/",
          "height": 336
        }
      },
      "source": [
        "# Freeze the layers except the last 5 layers\n",
        "for layer in model.layers[:-5]:\n",
        "    layer.trainable = False\n",
        " \n",
        "# Check the trainable status of the individual layers\n",
        "for layer in model.layers:\n",
        "    print(layer, layer.trainable)"
      ],
      "execution_count": 74,
      "outputs": [
        {
          "output_type": "stream",
          "text": [
            "<keras.layers.convolutional.Conv2D object at 0x7f2de1eceda0> False\n",
            "<keras.layers.core.Dropout object at 0x7f2de2295c50> False\n",
            "<keras.layers.convolutional.Conv2D object at 0x7f2de22954a8> False\n",
            "<keras.layers.pooling.MaxPooling2D object at 0x7f2de2517f60> False\n",
            "<keras.layers.convolutional.Conv2D object at 0x7f2de3138438> False\n",
            "<keras.layers.core.Dropout object at 0x7f2de31438d0> False\n",
            "<keras.layers.convolutional.Conv2D object at 0x7f2de313ba90> False\n",
            "<keras.layers.pooling.MaxPooling2D object at 0x7f2de3141860> False\n",
            "<keras.layers.convolutional.Conv2D object at 0x7f2de315bf60> False\n",
            "<keras.layers.core.Dropout object at 0x7f2de2f237b8> False\n",
            "<keras.layers.convolutional.Conv2D object at 0x7f2de2f23208> False\n",
            "<keras.layers.pooling.MaxPooling2D object at 0x7f2de2f55d68> False\n",
            "<keras.layers.core.Flatten object at 0x7f2de2f53e48> False\n",
            "<keras.layers.core.Dropout object at 0x7f2de2f43320> False\n",
            "<keras.layers.core.Dense object at 0x7f2de24301d0> True\n",
            "<keras.layers.core.Dropout object at 0x7f2de2f43ac8> True\n",
            "<keras.layers.core.Dense object at 0x7f2de2426710> True\n",
            "<keras.layers.core.Dropout object at 0x7f2de2441f98> True\n",
            "<keras.layers.core.Dense object at 0x7f2de2422400> True\n"
          ],
          "name": "stdout"
        }
      ]
    },
    {
      "cell_type": "code",
      "metadata": {
        "id": "o_VCDB3Byb1a",
        "colab_type": "code",
        "outputId": "80ada7f7-9876-46e5-a43d-e282f312b717",
        "colab": {
          "base_uri": "https://localhost:8080/",
          "height": 185
        }
      },
      "source": [
        "\n",
        "# Create the model\n",
        "freezemodel = Sequential()\n",
        " \n",
        "# Add the original model convolutional base model\n",
        "freezemodel.add(model)\n",
        "  \n",
        "# Show a summary of the model. Check the number of trainable parameters\n",
        "freezemodel.summary()"
      ],
      "execution_count": 75,
      "outputs": [
        {
          "output_type": "stream",
          "text": [
            "Model: \"sequential_3\"\n",
            "_________________________________________________________________\n",
            "Layer (type)                 Output Shape              Param #   \n",
            "=================================================================\n",
            "sequential_2 (Sequential)    (None, 5)                 2912549   \n",
            "=================================================================\n",
            "Total params: 2,912,549\n",
            "Trainable params: 2,625,541\n",
            "Non-trainable params: 287,008\n",
            "_________________________________________________________________\n"
          ],
          "name": "stdout"
        }
      ]
    },
    {
      "cell_type": "markdown",
      "metadata": {
        "id": "1-uUPqWpyeyX",
        "colab_type": "text"
      },
      "source": [
        "### 5. Utilize the the model trained on CIFAR 10 (classes 0 to 4) to classify the classes 5 to 9 of CIFAR 10  (Use Transfer Learning) <br>\n",
        "Achieve an accuracy of more than 85% on test data"
      ]
    },
    {
      "cell_type": "code",
      "metadata": {
        "id": "szHjJgDvyfCt",
        "colab_type": "code",
        "outputId": "ca924d13-2522-46ed-e289-1e2d95996d60",
        "colab": {
          "base_uri": "https://localhost:8080/",
          "height": 1000
        }
      },
      "source": [
        "# initiate SGD optimizer\n",
        "opt = keras.optimizers.sgd(lr=lrate, momentum=0.9, decay=decay, nesterov=False)\n",
        "\n",
        "# Let's train the model using SGD\n",
        "freezemodel.compile(loss='categorical_crossentropy', optimizer=opt, metrics=['accuracy'])\n",
        "freezemodel.summary()\n",
        "\n",
        "# Fit the model\n",
        "freezemodel.fit(x_train_gte5, y_train_gte5, validation_data=(x_test_gte5, y_test_gte5), epochs=epochs, batch_size=batch_size)\n",
        "\n",
        "# Final evaluation of the model\n",
        "scores = freezemodel.evaluate(x_test_gte5, y_test_gte5, verbose=0)\n",
        "print(\"Accuracy: %.2f%%\" % (scores[1]*100))"
      ],
      "execution_count": 76,
      "outputs": [
        {
          "output_type": "stream",
          "text": [
            "Model: \"sequential_3\"\n",
            "_________________________________________________________________\n",
            "Layer (type)                 Output Shape              Param #   \n",
            "=================================================================\n",
            "sequential_2 (Sequential)    (None, 5)                 2912549   \n",
            "=================================================================\n",
            "Total params: 2,912,549\n",
            "Trainable params: 2,625,541\n",
            "Non-trainable params: 287,008\n",
            "_________________________________________________________________\n",
            "Train on 25000 samples, validate on 5000 samples\n",
            "Epoch 1/25\n",
            "25000/25000 [==============================] - 6s 260us/step - loss: 0.7566 - acc: 0.7370 - val_loss: 0.5138 - val_acc: 0.8100\n",
            "Epoch 2/25\n",
            "25000/25000 [==============================] - 6s 232us/step - loss: 0.5124 - acc: 0.8088 - val_loss: 0.4712 - val_acc: 0.8236\n",
            "Epoch 3/25\n",
            "25000/25000 [==============================] - 6s 231us/step - loss: 0.4634 - acc: 0.8267 - val_loss: 0.4462 - val_acc: 0.8384\n",
            "Epoch 4/25\n",
            "25000/25000 [==============================] - 6s 230us/step - loss: 0.4239 - acc: 0.8438 - val_loss: 0.4355 - val_acc: 0.8404\n",
            "Epoch 5/25\n",
            "25000/25000 [==============================] - 6s 231us/step - loss: 0.3982 - acc: 0.8541 - val_loss: 0.4116 - val_acc: 0.8476\n",
            "Epoch 6/25\n",
            "25000/25000 [==============================] - 6s 230us/step - loss: 0.3711 - acc: 0.8624 - val_loss: 0.4281 - val_acc: 0.8412\n",
            "Epoch 7/25\n",
            "25000/25000 [==============================] - 6s 229us/step - loss: 0.3548 - acc: 0.8703 - val_loss: 0.4092 - val_acc: 0.8520\n",
            "Epoch 8/25\n",
            "25000/25000 [==============================] - 6s 229us/step - loss: 0.3368 - acc: 0.8766 - val_loss: 0.3956 - val_acc: 0.8554\n",
            "Epoch 9/25\n",
            "25000/25000 [==============================] - 6s 230us/step - loss: 0.3213 - acc: 0.8822 - val_loss: 0.4036 - val_acc: 0.8536\n",
            "Epoch 10/25\n",
            "25000/25000 [==============================] - 6s 230us/step - loss: 0.3068 - acc: 0.8879 - val_loss: 0.3996 - val_acc: 0.8554\n",
            "Epoch 11/25\n",
            "25000/25000 [==============================] - 6s 227us/step - loss: 0.2937 - acc: 0.8946 - val_loss: 0.3952 - val_acc: 0.8574\n",
            "Epoch 12/25\n",
            "25000/25000 [==============================] - 6s 233us/step - loss: 0.2771 - acc: 0.8988 - val_loss: 0.4087 - val_acc: 0.8486\n",
            "Epoch 13/25\n",
            "25000/25000 [==============================] - 6s 234us/step - loss: 0.2652 - acc: 0.9044 - val_loss: 0.4025 - val_acc: 0.8550\n",
            "Epoch 14/25\n",
            "25000/25000 [==============================] - 6s 228us/step - loss: 0.2574 - acc: 0.9053 - val_loss: 0.4144 - val_acc: 0.8504\n",
            "Epoch 15/25\n",
            "25000/25000 [==============================] - 6s 229us/step - loss: 0.2461 - acc: 0.9107 - val_loss: 0.4000 - val_acc: 0.8566\n",
            "Epoch 16/25\n",
            "25000/25000 [==============================] - 6s 230us/step - loss: 0.2338 - acc: 0.9150 - val_loss: 0.4020 - val_acc: 0.8538\n",
            "Epoch 17/25\n",
            "25000/25000 [==============================] - 6s 231us/step - loss: 0.2273 - acc: 0.9146 - val_loss: 0.4044 - val_acc: 0.8598\n",
            "Epoch 18/25\n",
            "25000/25000 [==============================] - 6s 229us/step - loss: 0.2178 - acc: 0.9190 - val_loss: 0.4013 - val_acc: 0.8580\n",
            "Epoch 19/25\n",
            "25000/25000 [==============================] - 6s 229us/step - loss: 0.2051 - acc: 0.9263 - val_loss: 0.4209 - val_acc: 0.8568\n",
            "Epoch 20/25\n",
            "25000/25000 [==============================] - 6s 227us/step - loss: 0.2030 - acc: 0.9278 - val_loss: 0.4112 - val_acc: 0.8584\n",
            "Epoch 21/25\n",
            "25000/25000 [==============================] - 6s 231us/step - loss: 0.1982 - acc: 0.9277 - val_loss: 0.4124 - val_acc: 0.8584\n",
            "Epoch 22/25\n",
            "25000/25000 [==============================] - 6s 230us/step - loss: 0.1892 - acc: 0.9318 - val_loss: 0.4131 - val_acc: 0.8592\n",
            "Epoch 23/25\n",
            "25000/25000 [==============================] - 6s 228us/step - loss: 0.1855 - acc: 0.9335 - val_loss: 0.4185 - val_acc: 0.8592\n",
            "Epoch 24/25\n",
            "25000/25000 [==============================] - 6s 227us/step - loss: 0.1801 - acc: 0.9336 - val_loss: 0.4105 - val_acc: 0.8606\n",
            "Epoch 25/25\n",
            "25000/25000 [==============================] - 6s 230us/step - loss: 0.1744 - acc: 0.9356 - val_loss: 0.4237 - val_acc: 0.8570\n",
            "Accuracy: 85.70%\n"
          ],
          "name": "stdout"
        }
      ]
    },
    {
      "cell_type": "markdown",
      "metadata": {
        "id": "0zDuRecXzEtr",
        "colab_type": "text"
      },
      "source": [
        "# Text classification using TF-IDF"
      ]
    },
    {
      "cell_type": "markdown",
      "metadata": {
        "id": "xMPlEJhHzb6P",
        "colab_type": "text"
      },
      "source": [
        "### 6. Load the dataset from sklearn.datasets"
      ]
    },
    {
      "cell_type": "code",
      "metadata": {
        "id": "Fe-B59u3zHNb",
        "colab_type": "code",
        "colab": {}
      },
      "source": [
        "from sklearn.datasets import fetch_20newsgroups"
      ],
      "execution_count": 0,
      "outputs": []
    },
    {
      "cell_type": "code",
      "metadata": {
        "id": "PRrMemVQzbHU",
        "colab_type": "code",
        "colab": {}
      },
      "source": [
        "categories = ['alt.atheism', 'soc.religion.christian', 'comp.graphics', 'sci.med']"
      ],
      "execution_count": 0,
      "outputs": []
    },
    {
      "cell_type": "markdown",
      "metadata": {
        "id": "-sZX0UbJzmg5",
        "colab_type": "text"
      },
      "source": [
        "### 7. Training data"
      ]
    },
    {
      "cell_type": "code",
      "metadata": {
        "id": "CITr_5aXziJ2",
        "colab_type": "code",
        "colab": {}
      },
      "source": [
        "twenty_train = fetch_20newsgroups(subset='train', categories=categories, shuffle=True, random_state=42)"
      ],
      "execution_count": 0,
      "outputs": []
    },
    {
      "cell_type": "markdown",
      "metadata": {
        "id": "xcESc5QXzr6p",
        "colab_type": "text"
      },
      "source": [
        "### 8. Test data"
      ]
    },
    {
      "cell_type": "code",
      "metadata": {
        "id": "ysInblUMzpvl",
        "colab_type": "code",
        "colab": {}
      },
      "source": [
        "twenty_test = fetch_20newsgroups(subset='test', categories=categories, shuffle=True, random_state=42)"
      ],
      "execution_count": 0,
      "outputs": []
    },
    {
      "cell_type": "markdown",
      "metadata": {
        "id": "DriL2yZ50DQq",
        "colab_type": "text"
      },
      "source": [
        "###  a.  You can access the values for the target variable using .target attribute \n",
        "###  b. You can access the name of the class in the target variable with .target_names\n"
      ]
    },
    {
      "cell_type": "code",
      "metadata": {
        "id": "vlUuai99z1hX",
        "colab_type": "code",
        "outputId": "134e599e-edfb-499e-c25c-911bbaa47fbf",
        "colab": {
          "base_uri": "https://localhost:8080/",
          "height": 34
        }
      },
      "source": [
        "twenty_train.target"
      ],
      "execution_count": 81,
      "outputs": [
        {
          "output_type": "execute_result",
          "data": {
            "text/plain": [
              "array([1, 1, 3, ..., 2, 2, 2])"
            ]
          },
          "metadata": {
            "tags": []
          },
          "execution_count": 81
        }
      ]
    },
    {
      "cell_type": "code",
      "metadata": {
        "id": "VEKzaDfSz5E-",
        "colab_type": "code",
        "outputId": "9ad74a05-5693-4a0d-814d-4e83e1a100d7",
        "colab": {
          "base_uri": "https://localhost:8080/",
          "height": 34
        }
      },
      "source": [
        "twenty_train.target_names"
      ],
      "execution_count": 82,
      "outputs": [
        {
          "output_type": "execute_result",
          "data": {
            "text/plain": [
              "['alt.atheism', 'comp.graphics', 'sci.med', 'soc.religion.christian']"
            ]
          },
          "metadata": {
            "tags": []
          },
          "execution_count": 82
        }
      ]
    },
    {
      "cell_type": "code",
      "metadata": {
        "id": "clBMKHzC0_N1",
        "colab_type": "code",
        "outputId": "a8ef50eb-3a84-46ca-f9c1-5ebfd9a0c0de",
        "colab": {
          "base_uri": "https://localhost:8080/",
          "height": 121
        }
      },
      "source": [
        "twenty_train.data[0:5]"
      ],
      "execution_count": 83,
      "outputs": [
        {
          "output_type": "execute_result",
          "data": {
            "text/plain": [
              "['From: sd345@city.ac.uk (Michael Collier)\\nSubject: Converting images to HP LaserJet III?\\nNntp-Posting-Host: hampton\\nOrganization: The City University\\nLines: 14\\n\\nDoes anyone know of a good way (standard PC application/PD utility) to\\nconvert tif/img/tga files into LaserJet III format.  We would also like to\\ndo the same, converting to HPGL (HP plotter) files.\\n\\nPlease email any response.\\n\\nIs this the correct group?\\n\\nThanks in advance.  Michael.\\n-- \\nMichael Collier (Programmer)                 The Computer Unit,\\nEmail: M.P.Collier@uk.ac.city                The City University,\\nTel: 071 477-8000 x3769                      London,\\nFax: 071 477-8565                            EC1V 0HB.\\n',\n",
              " \"From: ani@ms.uky.edu (Aniruddha B. Deglurkar)\\nSubject: help: Splitting a trimming region along a mesh \\nOrganization: University Of Kentucky, Dept. of Math Sciences\\nLines: 28\\n\\n\\n\\n\\tHi,\\n\\n\\tI have a problem, I hope some of the 'gurus' can help me solve.\\n\\n\\tBackground of the problem:\\n\\tI have a rectangular mesh in the uv domain, i.e  the mesh is a \\n\\tmapping of a 3d Bezier patch into 2d. The area in this domain\\n\\twhich is inside a trimming loop had to be rendered. The trimming\\n\\tloop is a set of 2d Bezier curve segments.\\n\\tFor the sake of notation: the mesh is made up of cells.\\n\\n\\tMy problem is this :\\n\\tThe trimming area has to be split up into individual smaller\\n\\tcells bounded by the trimming curve segments. If a cell\\n\\tis wholly inside the area...then it is output as a whole ,\\n\\telse it is trivially rejected. \\n\\n\\tDoes any body know how thiss can be done, or is there any algo. \\n\\tsomewhere for doing this.\\n\\n\\tAny help would be appreciated.\\n\\n\\tThanks, \\n\\tAni.\\n-- \\nTo get irritated is human, to stay cool, divine.\\n\",\n",
              " \"From: djohnson@cs.ucsd.edu (Darin Johnson)\\nSubject: Re: harrassed at work, could use some prayers\\nOrganization: =CSE Dept., U.C. San Diego\\nLines: 63\\n\\n(Well, I'll email also, but this may apply to other people, so\\nI'll post also.)\\n\\n>I've been working at this company for eight years in various\\n>engineering jobs.  I'm female.  Yesterday I counted and realized that\\n>on seven different occasions I've been sexually harrassed at this\\n>company.\\n\\n>I dreaded coming back to work today.  What if my boss comes in to ask\\n>me some kind of question...\\n\\nYour boss should be the person bring these problems to.  If he/she\\ndoes not seem to take any action, keep going up higher and higher.\\nSexual harrassment does not need to be tolerated, and it can be an\\nenormous emotional support to discuss this with someone and know that\\nthey are trying to do something about it.  If you feel you can not\\ndiscuss this with your boss, perhaps your company has a personnel\\ndepartment that can work for you while preserving your privacy.  Most\\ncompanies will want to deal with this problem because constant anxiety\\ndoes seriously affect how effectively employees do their jobs.\\n\\nIt is unclear from your letter if you have done this or not.  It is\\nnot inconceivable that management remains ignorant of employee\\nproblems/strife even after eight years (it's a miracle if they do\\nnotice).  Perhaps your manager did not bring to the attention of\\nhigher ups?  If the company indeed does seem to want to ignore the\\nentire problem, there may be a state agency willing to fight with\\nyou.  (check with a lawyer, a women's resource center, etc to find out)\\n\\nYou may also want to discuss this with your paster, priest, husband,\\netc.  That is, someone you know will not be judgemental and that is\\nsupportive, comforting, etc.  This will bring a lot of healing.\\n\\n>So I returned at 11:25, only to find that ever single\\n>person had already left for lunch.  They left at 11:15 or so.  No one\\n>could be bothered to call me at the other building, even though my\\n>number was posted.\\n\\nThis happens to a lot of people.  Honest.  I believe it may seem\\nto be due to gross insensitivity because of the feelings you are\\ngoing through.  People in offices tend to be more insensitive while\\nworking than they normally are (maybe it's the hustle or stress or...)\\nI've had this happen to me a lot, often because they didn't realize\\nmy car was broken, etc.  Then they will come back and wonder why I\\ndidn't want to go (this would tend to make me stop being angry at\\nbeing ignored and make me laugh).  Once, we went off without our\\nboss, who was paying for the lunch :-)\\n\\n>For this\\n>reason I hope good Mr. Moderator allows me this latest indulgence.\\n\\nWell, if you can't turn to the computer for support, what would\\nwe do?  (signs of the computer age :-)\\n\\nIn closing, please don't let the hateful actions of a single person\\nharm you.  They are doing it because they are still the playground\\nbully and enjoy seeing the hurt they cause.  And you should not\\naccept the opinions of an imbecile that you are worthless - much\\nwiser people hold you in great esteem.\\n-- \\nDarin Johnson\\ndjohnson@ucsd.edu\\n  - Luxury!  In MY day, we had to make do with 5 bytes of swap...\\n\",\n",
              " 'From: s0612596@let.rug.nl (M.M. Zwart)\\nSubject: catholic church poland\\nOrganization: Faculteit der Letteren, Rijksuniversiteit Groningen, NL\\nLines: 10\\n\\nHello,\\n\\nI\\'m writing a paper on the role of the catholic church in Poland after 1989. \\nCan anyone tell me more about this, or fill me in on recent books/articles(\\nin english, german or french). Most important for me is the role of the \\nchurch concerning the abortion-law, religious education at schools,\\nbirth-control and the relation church-state(government). Thanx,\\n\\n                                                 Masja,\\n\"M.M.Zwart\"<s0612596@let.rug.nl>\\n',\n",
              " 'From: stanly@grok11.columbiasc.ncr.com (stanly)\\nSubject: Re: Elder Brother\\nOrganization: NCR Corp., Columbia SC\\nLines: 15\\n\\nIn article <Apr.8.00.57.41.1993.28246@athos.rutgers.edu> REXLEX@fnal.gov writes:\\n>In article <Apr.7.01.56.56.1993.22824@athos.rutgers.edu> shrum@hpfcso.fc.hp.com\\n>Matt. 22:9-14 \\'Go therefore to the main highways, and as many as you find\\n>there, invite to the wedding feast.\\'...\\n\\n>hmmmmmm.  Sounds like your theology and Christ\\'s are at odds. Which one am I \\n>to believe?\\n\\nIn this parable, Jesus tells the parable of the wedding feast. \"The kingdom\\nof heaven is like unto a certain king which made a marriage for his son\".\\nSo the wedding clothes were customary,  and \"given\" to those who \"chose\" to\\nattend.  This man \"refused\" to wear the clothes.  The wedding clothes are\\nequalivant to the \"clothes of righteousness\".  When Jesus died for our sins,\\nthose \"clothes\" were then provided.  Like that man, it is our decision to\\nput the clothes on.\\n']"
            ]
          },
          "metadata": {
            "tags": []
          },
          "execution_count": 83
        }
      ]
    },
    {
      "cell_type": "markdown",
      "metadata": {
        "id": "hTz4EaN_1WGc",
        "colab_type": "text"
      },
      "source": [
        "### 9.  Now with dependent and independent data available for both train and test datasets, using TfidfVectorizer fit and transform the training data and test data and get the tfidf features for both"
      ]
    },
    {
      "cell_type": "code",
      "metadata": {
        "id": "fv79G_L0lWt8",
        "colab_type": "code",
        "colab": {
          "base_uri": "https://localhost:8080/",
          "height": 370
        },
        "outputId": "b8886e4c-80ca-41a4-ce7a-9b577241ad69"
      },
      "source": [
        "from sklearn.feature_extraction.text import TfidfVectorizer\n",
        "vectorizer = TfidfVectorizer()\n",
        "X_train_tfidf = vectorizer.fit_transform(twenty_train.data)\n",
        "X_test_tfidf = vectorizer.transform(twenty_test.data)\n",
        "dfTraining = pd.DataFrame(X_train_tfidf.todense(), columns=vectorizer.get_feature_names())\n",
        "dfTesting = pd.DataFrame(X_test_tfidf.todense(), columns=vectorizer.get_feature_names())\n",
        "print(\"Training features \\n\\n \", dfTraining.head())\n",
        "print(\"\\n Testing features \\n\\n \", dfTesting.head())"
      ],
      "execution_count": 85,
      "outputs": [
        {
          "output_type": "stream",
          "text": [
            "Training features \n",
            "\n",
            "           00  000  0000  0000001200  ...   zz  zzz   ªl  íålittin\n",
            "0  0.000000  0.0   0.0         0.0  ...  0.0  0.0  0.0       0.0\n",
            "1  0.000000  0.0   0.0         0.0  ...  0.0  0.0  0.0       0.0\n",
            "2  0.000000  0.0   0.0         0.0  ...  0.0  0.0  0.0       0.0\n",
            "3  0.000000  0.0   0.0         0.0  ...  0.0  0.0  0.0       0.0\n",
            "4  0.055283  0.0   0.0         0.0  ...  0.0  0.0  0.0       0.0\n",
            "\n",
            "[5 rows x 35788 columns]\n",
            "\n",
            " Testing features \n",
            "\n",
            "      00  000  0000  0000001200  000005102000  ...  zyxel   zz  zzz   ªl  íålittin\n",
            "0  0.0  0.0   0.0         0.0           0.0  ...    0.0  0.0  0.0  0.0       0.0\n",
            "1  0.0  0.0   0.0         0.0           0.0  ...    0.0  0.0  0.0  0.0       0.0\n",
            "2  0.0  0.0   0.0         0.0           0.0  ...    0.0  0.0  0.0  0.0       0.0\n",
            "3  0.0  0.0   0.0         0.0           0.0  ...    0.0  0.0  0.0  0.0       0.0\n",
            "4  0.0  0.0   0.0         0.0           0.0  ...    0.0  0.0  0.0  0.0       0.0\n",
            "\n",
            "[5 rows x 35788 columns]\n"
          ],
          "name": "stdout"
        }
      ]
    },
    {
      "cell_type": "markdown",
      "metadata": {
        "id": "tp_fDINJ1t4L",
        "colab_type": "text"
      },
      "source": [
        "### 10. Use logisticRegression with tfidf features as input and targets as output and train the model and report the train and test accuracy score"
      ]
    },
    {
      "cell_type": "code",
      "metadata": {
        "id": "THlN2b5d1yQp",
        "colab_type": "code",
        "outputId": "cb00b4ef-57a4-405f-abf8-4acb45c0df5a",
        "colab": {
          "base_uri": "https://localhost:8080/",
          "height": 218
        }
      },
      "source": [
        "clf = LogisticRegression()\n",
        "clf.fit(X_train_tfidf, twenty_train.target)\n",
        "pred = clf.predict(X_test_tfidf)\n",
        "report = metrics.classification_report(twenty_test.target, pred,\n",
        "        target_names=twenty_test.target_names)\n",
        "print(report)\n",
        "print(\"accuracy: {:0.3f}\".format(metrics.accuracy_score(twenty_test.target, pred)))"
      ],
      "execution_count": 86,
      "outputs": [
        {
          "output_type": "stream",
          "text": [
            "                        precision    recall  f1-score   support\n",
            "\n",
            "           alt.atheism       0.96      0.75      0.85       319\n",
            "         comp.graphics       0.83      0.97      0.89       389\n",
            "               sci.med       0.93      0.86      0.89       396\n",
            "soc.religion.christian       0.87      0.94      0.90       398\n",
            "\n",
            "              accuracy                           0.89      1502\n",
            "             macro avg       0.90      0.88      0.88      1502\n",
            "          weighted avg       0.89      0.89      0.89      1502\n",
            "\n",
            "accuracy: 0.887\n"
          ],
          "name": "stdout"
        }
      ]
    }
  ]
}