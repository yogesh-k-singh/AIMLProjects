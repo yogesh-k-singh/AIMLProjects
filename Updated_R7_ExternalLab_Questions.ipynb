{
 "cells": [
  {
   "cell_type": "markdown",
   "metadata": {
    "colab_type": "text",
    "id": "4WH1Pr4KQlCh"
   },
   "source": [
    "### Build a DNN using Keras with `RELU` and `ADAM`"
   ]
  },
  {
   "cell_type": "markdown",
   "metadata": {
    "colab_type": "text",
    "id": "TbvI8LqlQlCl"
   },
   "source": [
    "#### Load tensorflow"
   ]
  },
  {
   "cell_type": "code",
   "execution_count": 0,
   "metadata": {
    "colab": {},
    "colab_type": "code",
    "id": "SPW-a-qYQlCp"
   },
   "outputs": [],
   "source": [
    "import tensorflow as tf\n",
    "import keras\n",
    "from keras.models import Sequential\n",
    "from keras.layers import Dense, Dropout\n",
    "import matplotlib.pyplot as plt\n",
    "%matplotlib inline\n",
    "import numpy as np\n",
    "import warnings\n",
    "warnings.filterwarnings(\"ignore\")"
   ]
  },
  {
   "cell_type": "markdown",
   "metadata": {
    "colab_type": "text",
    "id": "74cQBsi5QlCw"
   },
   "source": [
    "#### Collect Fashion mnist data from tf.keras.datasets "
   ]
  },
  {
   "cell_type": "code",
   "execution_count": 0,
   "metadata": {
    "colab": {},
    "colab_type": "code",
    "id": "wVWy0oDTr2Kj"
   },
   "outputs": [],
   "source": [
    "(x_train, y_train), (x_test, y_test) = keras.datasets.fashion_mnist.load_data()"
   ]
  },
  {
   "cell_type": "markdown",
   "metadata": {
    "colab_type": "text",
    "id": "no7aWYZyQlC1"
   },
   "source": [
    "#### Change train and test labels into one-hot vectors"
   ]
  },
  {
   "cell_type": "code",
   "execution_count": 38,
   "metadata": {
    "colab": {
     "base_uri": "https://localhost:8080/",
     "height": 34
    },
    "colab_type": "code",
    "id": "UX6otc4wQlC2",
    "outputId": "e636ed07-dc8f-45b4-8e37-52f642f92f09"
   },
   "outputs": [
    {
     "name": "stdout",
     "output_type": "stream",
     "text": [
      "Number of categories: 10\n"
     ]
    }
   ],
   "source": [
    "#Number of categories present in the data\n",
    "num_classes = len(np.unique(y_train))\n",
    "print('Number of categories:',num_classes)\n",
    "y_train = tf.keras.utils.to_categorical(y_train, num_classes)\n",
    "y_test = tf.keras.utils.to_categorical(y_test, num_classes)"
   ]
  },
  {
   "cell_type": "markdown",
   "metadata": {
    "colab_type": "text",
    "id": "QjNrRTdoQlC5"
   },
   "source": [
    "#### Build the Graph"
   ]
  },
  {
   "cell_type": "markdown",
   "metadata": {
    "colab_type": "text",
    "id": "CDJ9DHVNQlC7"
   },
   "source": [
    "#### Initialize model, reshape & normalize data"
   ]
  },
  {
   "cell_type": "code",
   "execution_count": 39,
   "metadata": {
    "colab": {
     "base_uri": "https://localhost:8080/",
     "height": 118
    },
    "colab_type": "code",
    "id": "pCDQs_g1QlC8",
    "outputId": "4613c55f-4892-4872-8c84-b949e404fee2"
   },
   "outputs": [
    {
     "name": "stdout",
     "output_type": "stream",
     "text": [
      "Number of samples 60000\n",
      "Number of labels  60000\n",
      "Images Dimensions (28, 28)\n",
      "Label Dimensions (60000, 10)\n",
      "(60000, 784)\n",
      "(10000, 784)\n"
     ]
    }
   ],
   "source": [
    "print('Number of samples' , len(x_train))\n",
    "print('Number of labels ' , len(y_train))\n",
    "print('Images Dimensions' , x_train[0].shape)\n",
    "print('Label Dimensions' , y_train.shape)\n",
    "\n",
    "\n",
    "img_rows = x_train[0].shape[0]\n",
    "img_cols = x_train[0].shape[1]\n",
    "\n",
    "x_train = x_train.reshape(x_train.shape[0] , img_rows , img_cols , 1)\n",
    "x_test = x_test.reshape(x_test.shape[0] , img_rows , img_cols , 1)\n",
    "\n",
    "n_inputs = x_train.shape[1] * x_train.shape[2]\n",
    "\n",
    "x_train = x_train.reshape( 60000, n_inputs) \n",
    "x_test = x_test.reshape( 10000, n_inputs)\n",
    "\n",
    "x_train = x_train.astype('float32')\n",
    "x_test = x_test.astype('float32')\n",
    "\n",
    "x_train /= 255\n",
    "x_test /= 255\n",
    "\n",
    "print(x_train.shape)\n",
    "print(x_test.shape)"
   ]
  },
  {
   "cell_type": "markdown",
   "metadata": {
    "colab_type": "text",
    "id": "kBGwTTilQlDD"
   },
   "source": [
    "#### Add two fully connected layers with 200 and 100 neurons respectively with `relu` activations. Add a dropout layer with `p=0.25`"
   ]
  },
  {
   "cell_type": "code",
   "execution_count": 0,
   "metadata": {
    "colab": {},
    "colab_type": "code",
    "id": "IXbfpfOzQlDF"
   },
   "outputs": [],
   "source": [
    "model = Sequential()\n",
    "model.add( Dense( units = 200, activation ='relu', input_shape= (n_inputs,)))\n",
    "model.add( Dropout( 0.25)) \n",
    "model.add( Dense( units = 100, activation ='relu')) \n",
    "model.add( Dropout( 0.25))"
   ]
  },
  {
   "cell_type": "markdown",
   "metadata": {
    "colab_type": "text",
    "id": "5I8f5otcQlDJ"
   },
   "source": [
    "### Add the output layer with a fully connected layer with 10 neurons with `softmax` activation. Use `categorical_crossentropy` loss and `adam` optimizer and train the network. And, report the final validation."
   ]
  },
  {
   "cell_type": "code",
   "execution_count": 32,
   "metadata": {
    "colab": {
     "base_uri": "https://localhost:8080/",
     "height": 672
    },
    "colab_type": "code",
    "id": "JZkvKymSd0Sr",
    "outputId": "1a7f423b-5f65-4f94-ec88-9a533a967e48"
   },
   "outputs": [
    {
     "name": "stdout",
     "output_type": "stream",
     "text": [
      "Train on 60000 samples, validate on 10000 samples\n",
      "Epoch 1/10\n",
      "60000/60000 [==============================] - 10s 174us/step - loss: 0.5681 - acc: 0.7965 - val_loss: 0.4398 - val_acc: 0.8359\n",
      "Epoch 2/10\n",
      "60000/60000 [==============================] - 10s 165us/step - loss: 0.4239 - acc: 0.8474 - val_loss: 0.4207 - val_acc: 0.8442\n",
      "Epoch 3/10\n",
      "60000/60000 [==============================] - 10s 165us/step - loss: 0.3923 - acc: 0.8568 - val_loss: 0.3753 - val_acc: 0.8623\n",
      "Epoch 4/10\n",
      "60000/60000 [==============================] - 10s 165us/step - loss: 0.3669 - acc: 0.8651 - val_loss: 0.4107 - val_acc: 0.8507\n",
      "Epoch 5/10\n",
      "60000/60000 [==============================] - 10s 166us/step - loss: 0.3518 - acc: 0.8710 - val_loss: 0.3645 - val_acc: 0.8680\n",
      "Epoch 6/10\n",
      "60000/60000 [==============================] - 10s 165us/step - loss: 0.3408 - acc: 0.8746 - val_loss: 0.3538 - val_acc: 0.8735\n",
      "Epoch 7/10\n",
      "60000/60000 [==============================] - 10s 169us/step - loss: 0.3301 - acc: 0.8780 - val_loss: 0.3584 - val_acc: 0.8714\n",
      "Epoch 8/10\n",
      "60000/60000 [==============================] - 10s 164us/step - loss: 0.3239 - acc: 0.8800 - val_loss: 0.3348 - val_acc: 0.8776\n",
      "Epoch 9/10\n",
      "60000/60000 [==============================] - 10s 166us/step - loss: 0.3155 - acc: 0.8834 - val_loss: 0.3405 - val_acc: 0.8786\n",
      "Epoch 10/10\n",
      "60000/60000 [==============================] - 10s 163us/step - loss: 0.3097 - acc: 0.8845 - val_loss: 0.3414 - val_acc: 0.8768\n",
      "Model: \"sequential_3\"\n",
      "_________________________________________________________________\n",
      "Layer (type)                 Output Shape              Param #   \n",
      "=================================================================\n",
      "dense_7 (Dense)              (None, 200)               157000    \n",
      "_________________________________________________________________\n",
      "dropout_5 (Dropout)          (None, 200)               0         \n",
      "_________________________________________________________________\n",
      "dense_8 (Dense)              (None, 100)               20100     \n",
      "_________________________________________________________________\n",
      "dropout_6 (Dropout)          (None, 100)               0         \n",
      "_________________________________________________________________\n",
      "dense_9 (Dense)              (None, 10)                1010      \n",
      "=================================================================\n",
      "Total params: 178,110\n",
      "Trainable params: 178,110\n",
      "Non-trainable params: 0\n",
      "_________________________________________________________________\n"
     ]
    }
   ],
   "source": [
    "model.add( Dense( units = num_classes, activation ='softmax'))\n",
    "model.compile(optimizer='adam', loss='categorical_crossentropy', metrics=['accuracy'])\n",
    "fashion_train = model.fit(x_train, y_train,validation_data=(x_test, y_test),epochs=10,batch_size=32)\n",
    "model.summary()"
   ]
  },
  {
   "cell_type": "code",
   "execution_count": 33,
   "metadata": {
    "colab": {
     "base_uri": "https://localhost:8080/",
     "height": 67
    },
    "colab_type": "code",
    "id": "rwpi6u0eiGnb",
    "outputId": "2c27411e-583e-407d-a276-f2297a948d58"
   },
   "outputs": [
    {
     "name": "stdout",
     "output_type": "stream",
     "text": [
      "10000/10000 [==============================] - 1s 51us/step\n",
      "Test loss: 0.34137508542537687\n",
      "Test accuracy: 0.8768\n"
     ]
    }
   ],
   "source": [
    "test_eval = model.evaluate(x_test, y_test, verbose=1)\n",
    "print('Test loss:', test_eval[0])\n",
    "print('Test accuracy:', test_eval[1])"
   ]
  },
  {
   "cell_type": "code",
   "execution_count": 34,
   "metadata": {
    "colab": {
     "base_uri": "https://localhost:8080/",
     "height": 545
    },
    "colab_type": "code",
    "id": "tOnvbG-tkgzJ",
    "outputId": "5629f9c7-88c3-492c-db06-82fb2eeecba5"
   },
   "outputs": [
    {
     "data": {
      "image/png": "[encoded data removed]",
      "text/plain": [
       "<Figure size 432x288 with 1 Axes>"
      ]
     },
     "metadata": {
      "tags": []
     },
     "output_type": "display_data"
    },
    {
     "data": {
      "image/png": "[encoded data removed]",
      "text/plain": [
       "<Figure size 432x288 with 1 Axes>"
      ]
     },
     "metadata": {
      "tags": []
     },
     "output_type": "display_data"
    }
   ],
   "source": [
    "accuracy = fashion_train.history['acc']\n",
    "val_accuracy = fashion_train.history['val_acc']\n",
    "loss = fashion_train.history['loss']\n",
    "val_loss = fashion_train.history['val_loss']\n",
    "epochs = range(len(accuracy))\n",
    "plt.plot(epochs, accuracy, 'bo', label='Training accuracy')\n",
    "plt.plot(epochs, val_accuracy, 'b', label='Validation accuracy')\n",
    "plt.title('Training and validation accuracy')\n",
    "plt.legend()\n",
    "plt.figure()\n",
    "plt.plot(epochs, loss, 'bo', label='Training loss')\n",
    "plt.plot(epochs, val_loss, 'b', label='Validation loss')\n",
    "plt.title('Training and validation loss')\n",
    "plt.legend()\n",
    "plt.show()"
   ]
  }
 ],
 "metadata": {
  "accelerator": "GPU",
  "colab": {
   "collapsed_sections": [],
   "name": "Updated_R7_ExternalLab_Questions.ipynb",
   "provenance": []
  },
  "kernelspec": {
   "display_name": "Python 3",
   "language": "python",
   "name": "python3"
  },
  "language_info": {
   "codemirror_mode": {
    "name": "ipython",
    "version": 3
   },
   "file_extension": ".py",
   "mimetype": "text/x-python",
   "name": "python",
   "nbconvert_exporter": "python",
   "pygments_lexer": "ipython3",
   "version": "3.7.1"
  }
 },
 "nbformat": 4,
 "nbformat_minor": 1
}
